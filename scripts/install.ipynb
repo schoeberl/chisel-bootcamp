{
 "cells": [
  {
   "cell_type": "markdown",
   "metadata": {},
   "source": [
    "# Get Jupyter running with Scala running Chisel3\n",
    "\n",
    "## Ubuntu install\n",
    "run the install script\n",
    "``` bash\n",
    " ./JupyterScalaLinuxInstall.sh\n",
    "```\n",
    "\n",
    "if you do not have permission to run the install script - run the following command: \n",
    "\n",
    "``` bash\n",
    " chmod +x JupyterScalaLinuxInstall.sh\n",
    "```\n",
    "\n",
    "afterwards you are able to run the script using the first command.\n",
    "\n",
    "Once the script has terminated you need to close and open a new terminal. In order to start a jupyter notebook run the command:\n",
    "\n",
    "``` bash\n",
    " jupyter notebook\n",
    "```\n",
    "This will open a notebook with root in the folder that the command was executed from.\n",
    "\n",
    "## Windows install\n",
    "\n",
    "You will have to run jupyter from Windows subsystem for linux (WSL) running ubuntu. Here are the steps:\n",
    "\n",
    "1. Enable WSL\n",
    "   - Open a PowerShell terminal as administrator\n",
    "   - Run the following command: \n",
    "``` PowerShell\n",
    " Enable-WindowsOptionalFeature -Online -FeatureName Microsoft-Windows-Subsystem-Linux\n",
    "```\n",
    "2. Go to Microsoft store and search for Ubuntu or go to this link: [MS Store Ubuntu](https://www.microsoft.com/en-us/p/ubuntu/9nblggh4msv6). Install ubuntu (This requires a reboot)\n",
    "\n",
    "3. Open the ubuntu terminal - Just search for ubuntu in the windows start menu.\n",
    "4. Download the install script with the following command\n",
    "\n",
    "```bash\n",
    "wget -O JupyterScalaLinuxInstall.sh https://raw.githubusercontent.com/schoeberl/chisel-intro-de2/master/scripts/JupyterScalaLinuxInstall.sh\n",
    "```\n",
    "\n",
    "5. From here follow the instructions for Ubuntu"
   ]
  }
 ],
 "metadata": {
  "kernelspec": {
   "display_name": "Python 3",
   "language": "python",
   "name": "python3"
  },
  "language_info": {
   "codemirror_mode": {
    "name": "ipython",
    "version": 3
   },
   "file_extension": ".py",
   "mimetype": "text/x-python",
   "name": "python",
   "nbconvert_exporter": "python",
   "pygments_lexer": "ipython3",
   "version": "3.7.4"
  }
 },
 "nbformat": 4,
 "nbformat_minor": 2
}
