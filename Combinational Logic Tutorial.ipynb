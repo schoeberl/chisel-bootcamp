{
 "cells": [
  {
   "cell_type": "code",
   "execution_count": null,
   "metadata": {},
   "outputs": [],
   "source": [
    "val path = System.getProperty(\"user.dir\") + \"/source/load-ivy.sc\"\n",
    "interp.load.module(ammonite.ops.Path(java.nio.file.FileSystems.getDefault().getPath(path)))"
   ]
  },
  {
   "cell_type": "code",
   "execution_count": null,
   "metadata": {},
   "outputs": [],
   "source": [
    "import chisel3._\n",
    "import chisel3.util._\n",
    "import chisel3.iotesters.{ChiselFlatSpec, Driver, PeekPokeTester}"
   ]
  },
  {
   "cell_type": "markdown",
   "metadata": {},
   "source": [
    "# Basics of combinatorial circuits using Chisel3 \n",
    "\n",
    "In this notebook you will get introduced to the basics of Chisel. This will include \n",
    "- Modules\n",
    " - IOs  \n",
    "- Chisel types/literals and operators\n",
    " - UInt, SInt, Bool.\n",
    " - +, -, === etc.\n",
    "- Wires\n",
    "- Registers\n",
    "- Multiplexers\n",
    "\n",
    "\n",
    "\n",
    "## Module and IO\n",
    "The first Chisel keyword to be introduced is *Module* and *IO*.  \n",
    "When declaring a class extending Module, it means that this code will be mapped to a Verilog module. Verilog modules are equivalent to components in VHDL. You start a Module description by declaring the inputs and outputs of the module. This is done using the special keyword *IO*. Declaring IO is equivalent to declaring the entity of a component in VHDL. All signals declared in IO must be specified as either an input or an output, this is done by wrapping the signals in the Input() and Output() apply methods (see code below). The IO declared in the empty module *HardwareModule* has signals from the three basic chisel data types; UInt - unsigned integer, SInt - signed integer and Bool - boolean. You specify the with of the signal bus explicitly using the X.W with x being an integer larger than 0. You cannot set the with of a Bool as it represents a single wire. If you need a bus and don't interpret it as an integer use UInt anyway. Inspect the code below. "
   ]
  },
  {
   "cell_type": "code",
   "execution_count": null,
   "metadata": {},
   "outputs": [],
   "source": [
    "class HardwareModule extends Module {   // Declare a class extending Module to declare the equivilent of a VHDL component\n",
    "    val io = IO(new Bundle {            // Declare in and outputs of the module. Equivilent to an entity declaration in VHDL - by convention named \"io\"\n",
    "        val input1 = Input(UInt(8.W))   // Declaration of input as a 8-bit bus that can be interpredted as a unsigned integer.\n",
    "        val input2 = Input(SInt(16.W))  // Declaration of input as a 16-bit bus that can be interpredted as a signed integer.\n",
    "        \n",
    "        val output1 = Output(UInt(8.W)) // Declaration of output as a 8-bit bus that can be interpredted as a unsigned integer.\n",
    "        val output2 = Output(Bool())    // Declaration of output signal. Bool is a signle wire that can either be 0 or 1.\n",
    "    })\n",
    "}"
   ]
  },
  {
   "cell_type": "markdown",
   "metadata": {},
   "source": [
    "### Body of modules\n",
    "In the body of the module, we describe the circuit of the module. This is equivalent to the architecture declaration in VHDL. We introduce this by making a module that takes three inputs a, b and c and produces the output z = (a + b) * c. This will be described in two steps, to introduce declaration of wires internal to a module, and signal value assignment. wires are declared using Wire(). See code below and read the comments. "
   ]
  },
  {
   "cell_type": "code",
   "execution_count": null,
   "metadata": {},
   "outputs": [],
   "source": [
    "class AddMult extends Module {\n",
    "    val io = IO(new Bundle {\n",
    "        val a = Input(SInt(32.W))\n",
    "        val b = Input(SInt(32.W))\n",
    "        val c = Input(SInt(32.W))\n",
    "        \n",
    "        val z = Output(SInt(32.W))\n",
    "    })\n",
    "    \n",
    "    val sum = Wire(SInt(32.W))     \n",
    "    // sum is declared as an internal wire of the SInt type, is a bus that is 32-bits wide.\n",
    "    val product = Wire(SInt(32.W)) \n",
    "    \n",
    "    sum := io.a + io.b \n",
    "    // The line above is an assignment \"sum\" with the addition of inputs a and b. Assignments are \n",
    "    // written with \":=\" notice that the inputs are referred to by the prefix \"io.\" which correspond \n",
    "    // to the name of the IO of this module. Remember that we are describing hardware, which means \n",
    "    // every assignment is evaluated concurrently. This means that you can only assign one value to a\n",
    "    // wire, otherwise you are describing a short circuit.\n",
    "    product := sum * io.c \n",
    "    io.z := product\n",
    "    \n",
    "}\n",
    "// the following line prints the verilog code that this module generates. This will might give the reader a better\n",
    "// understanding of whats going on.\n",
    "println(getVerilog(new AddMult))"
   ]
  },
  {
   "cell_type": "markdown",
   "metadata": {},
   "source": [
    "## Operaters\n",
    "Operators such as + and * looks identical for scala and chisel. They are interpreded as hardware if the operand are Chisel types, which is the case for the operators used in the code above. All operands is an assignment must be Chisel types. If you need a satatic value as operand for an operator a postfix is used:\n",
    "\n",
    "```scala\n",
    "42.U    // .U specifies the Chisel type UInt\n",
    "42.S    // .S specifies the Chisel type SInt\n",
    "true.B  // .B specifies the Chisel type Bool\n",
    "\n",
    "val a = 42 + 42     // OK - Scala Addition\n",
    "val a = 42.U + 42.U // OK - Chisel adder unit of adding two static signals.\n",
    "val a = 42 + 42.U   // Not Cool! - You can't mix scala and chisel types in arithmetic expressions\n",
    "```\n",
    "\n",
    "For a list of all Chisel operators please see the official [Chisel3 Cheatsheet](https://www.chisel-lang.org/doc/chisel-cheatsheet3.pdf/)\n"
   ]
  },
  {
   "cell_type": "code",
   "execution_count": null,
   "metadata": {},
   "outputs": [],
   "source": []
  }
 ],
 "metadata": {
  "kernelspec": {
   "display_name": "Scala",
   "language": "scala",
   "name": "scala"
  },
  "language_info": {
   "codemirror_mode": "text/x-scala",
   "file_extension": ".scala",
   "mimetype": "text/x-scala",
   "name": "scala",
   "nbconvert_exporter": "script",
   "version": "2.12.8"
  }
 },
 "nbformat": 4,
 "nbformat_minor": 2
}
