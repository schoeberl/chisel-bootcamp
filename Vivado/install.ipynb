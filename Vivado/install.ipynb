{
 "cells": [
  {
   "cell_type": "markdown",
   "metadata": {},
   "source": [
    "# Install Vivado\n",
    "\n",
    "If you do not have Vivado installed, follow these steps:\n",
    "\n",
    "* Go to [Xilinx](https://www.xilinx.com/support/download.html) and download the vivado webpack.\n",
    "  * Be sure to choose the web installer for the full version\n",
    "    * Vivado Design Suite - HLx Editions - 2019.1  Full Product Installation\n",
    "  * You have to make an account with Xilinx. Either create an account or login with your existing user.\n",
    "* Run the web installler\n",
    "  * Login with your user\n",
    "  * Agree to the agreements\n",
    "  * Choose Vivado HL WebPACK\n",
    "  * If you are worried about disk space, you can deselect \n",
    "    * Software Development Kit (SDK)\n",
    "    * Ultrascale \n",
    "    * Ultrascale+\n",
    "    * SoCs\n",
    "  * Choose a suitable installation location.\n",
    "    * Can be left untouched\n",
    "    * Change if you want to install Vivado on another (external) drive\n",
    "  * Install\n",
    "    * This may take some time as it wil first download and then install.\n",
    "* Verify that Vivado is installed correctly by launching the progam.\n",
    "* Now, include the board files for Vivado. This lets you choose the Basys 3 board when making a new project.\n",
    "  * [Download](board_files.zip) the zip file containing the board files, located in this folder.\n",
    "  * Extract the zip to \\VIVADO_INSTALL_LOCATION\\Vivado\\201x.x\\data\\boards\n",
    "    * There should already be a folder here. Merge the two or replace it with the new one.\n",
    "  * You should now be able to choose the Basys 3 board and others, when making a new project.\n",
    "\n",
    "\n",
    "\n",
    "# FAQ\n",
    "[My Chrome browser only shows a dinosaur!?](#My-Chrome-browser-only-shows-a-dinosaur!?)\n",
    "\n",
    "# \n",
    "\n",
    "\n",
    "## My Chrome browser only shows a dinosaur!?\n",
    "This is a well know issue. Connect to the internet and the dinosaur will go away.\n",
    "\n"
   ]
  }
 ],
 "metadata": {
  "kernelspec": {
   "display_name": "Python 3",
   "language": "python",
   "name": "python3"
  },
  "language_info": {
   "codemirror_mode": {
    "name": "ipython",
    "version": 3
   },
   "file_extension": ".py",
   "mimetype": "text/x-python",
   "name": "python",
   "nbconvert_exporter": "python",
   "pygments_lexer": "ipython3",
   "version": "3.7.4"
  }
 },
 "nbformat": 4,
 "nbformat_minor": 2
}
