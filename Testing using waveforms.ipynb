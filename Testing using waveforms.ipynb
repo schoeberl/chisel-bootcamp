{
 "cells": [
  {
   "cell_type": "markdown",
   "metadata": {},
   "source": [
    "# Testing using waveforms\n",
    "\n",
    "In this notebook, you will see how to use the PeekPokeTester and the most powerful tool for debugging hardware; the waveform. When runnning the PeekPokeTester, we can either inspect the outputs which we peek, but this does not tell us a lot about what is actually happenning. Therefore, it is also possible to output a VCD (Value Change Dump) file, which contains the waveform for the generated hardware signals. This allows us to find exactly which signal is behaving wrong and we can then backtrack to find the source of the problem.\n",
    "\n",
    "## Setup Chisel"
   ]
  },
  {
   "cell_type": "code",
   "execution_count": null,
   "metadata": {
    "scrolled": true
   },
   "outputs": [],
   "source": [
    "val path = System.getProperty(\"user.dir\") + \"/source/load-ivy.sc\"\n",
    "interp.load.module(ammonite.ops.Path(java.nio.file.FileSystems.getDefault().getPath(path)))"
   ]
  },
  {
   "cell_type": "code",
   "execution_count": null,
   "metadata": {},
   "outputs": [],
   "source": [
    "import chisel3._\n",
    "import chisel3.util._\n",
    "import chisel3.iotesters.{ChiselFlatSpec, Driver, PeekPokeTester}"
   ]
  },
  {
   "cell_type": "markdown",
   "metadata": {},
   "source": [
    "## Generating a VCD file\n",
    "To show how to generate a VCD file, we will use a simple counter with enable as an example:"
   ]
  },
  {
   "cell_type": "code",
   "execution_count": null,
   "metadata": {},
   "outputs": [],
   "source": [
    "class Counter() extends Module {\n",
    "    val io = IO(new Bundle {\n",
    "        val out = Output(UInt(4.W)) //The counter has 4 bits of output.\n",
    "    })\n",
    "    \n",
    "    \n",
    "    val cntEnable = RegInit(10.U)\n",
    "    val cntCounter= RegInit(0.U(4.W))\n",
    "    \n",
    "    cntEnable := Mux(cntEnable === 10.U, 0.U, cntEnable + 1.U)\n",
    "    \n",
    "    when(cntEnable === 10.U){\n",
    "        cntCounter:= cntCounter + 1.U\n",
    "    }\n",
    "    \n",
    "    io.out := 0.U\n",
    "}"
   ]
  },
  {
   "cell_type": "markdown",
   "metadata": {},
   "source": [
    "We can now use the PeekPokeTester to run this program. As this is a simple counter without inputs, we will not have anything to Poke. When calling the PeekPokeTester, we include three arguments:\n",
    "\n",
    "* \"--generate-vcd-output\",\"on\"\n",
    "    * Tells the backend to generate a VCD file.\n",
    "* \"-tn\", \"Counter\"\n",
    "    * TopName, tells the name of the top module.\n",
    "    * This is only used because we run in Jupyter Notebook, which would otherwise give a mangled name.\n",
    "* \"-target-dir\", \"generated\"\n",
    "    * Choose the folder/directory to save the output in."
   ]
  },
  {
   "cell_type": "code",
   "execution_count": null,
   "metadata": {
    "scrolled": true
   },
   "outputs": [],
   "source": [
    "val testResult = Driver.execute(Array(\"--generate-vcd-output\",\"on\", \"-tn\", \"Counter\",\"--target-dir\", \"generated\"),() => new Counter()) {\n",
    "  c => new PeekPokeTester(c) {\n",
    "    step(50) //Move 50 clock cycle ahead.\n",
    "  }\n",
    "}"
   ]
  },
  {
   "cell_type": "markdown",
   "metadata": {},
   "source": [
    "# Verifying with GTKWave\n",
    "We can now look into the *generated* folder, which contains the Counter.vcd file. This has the waveforms and can be opened in a program like GTKWave. Open the file using GTKWave and verify the result."
   ]
  },
  {
   "cell_type": "markdown",
   "metadata": {},
   "source": [
    "## Check the Waveform\n",
    "\n",
    "To show a waveform, choose the module on the left side, mark the signals you want to look at and click insert.\n",
    "\n",
    "![GTKWave image](images/GTKWave.png)\n",
    "\n",
    "You now have a set of signals you can look into."
   ]
  }
 ],
 "metadata": {
  "kernelspec": {
   "display_name": "Scala",
   "language": "scala",
   "name": "scala"
  },
  "language_info": {
   "codemirror_mode": "text/x-scala",
   "file_extension": ".scala",
   "mimetype": "text/x-scala",
   "name": "scala",
   "nbconvert_exporter": "script",
   "version": "2.12.8"
  }
 },
 "nbformat": 4,
 "nbformat_minor": 2
}
