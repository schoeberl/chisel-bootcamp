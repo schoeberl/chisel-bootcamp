{
 "cells": [
  {
   "cell_type": "markdown",
   "metadata": {},
   "source": [
    "# Testing using waveforms\n",
    "\n",
    "In this notebook, you will see how to use the PeekPokeTester and the most powerful tool for debugging hardware; the waveform. When runnning the PeekPokeTester, we can either inspect the outputs which we peek, but this does not tell us a lot about what is actually happenning. Therefore, it is also possible to output a VCD (Value Change Dump) file, which contains the waveform for the generated hardware signals. This allows us to find exactly which signal is behaving wrong and we can then backtrack to find the source of the problem.\n",
    "\n",
    "## Setup Chisel"
   ]
  },
  {
   "cell_type": "code",
   "execution_count": 1,
   "metadata": {
    "scrolled": true
   },
   "outputs": [
    {
     "name": "stdout",
     "output_type": "stream",
     "text": [
      "Compiling /home/thonner/MyDrive/DTU/9_Semester/SCDE2/chisel-intro-de2/Main.sc"
     ]
    },
    {
     "name": "stderr",
     "output_type": "stream",
     "text": [
      "Downloading https://repo1.maven.org/maven2/edu/berkeley/cs/chisel3_2.12/3.2-SNAPSHOT/chisel3_2.12-3.2-SNAPSHOT.pom\n",
      "Downloading https://repo1.maven.org/maven2/edu/berkeley/cs/chisel3_2.12/3.2-SNAPSHOT/chisel3_2.12-3.2-SNAPSHOT.pom.sha1\n",
      "Downloading https://repo1.maven.org/maven2/edu/berkeley/cs/chisel3_2.12/3.2-SNAPSHOT/maven-metadata.xml.sha1\n",
      "Downloading https://repo1.maven.org/maven2/edu/berkeley/cs/chisel3_2.12/3.2-SNAPSHOT/maven-metadata.xml\n",
      "Downloading https://repo1.maven.org/maven2/edu/berkeley/cs/firrtl_2.12/1.2-SNAPSHOT/firrtl_2.12-1.2-SNAPSHOT.pom\n",
      "Downloading https://repo1.maven.org/maven2/edu/berkeley/cs/firrtl_2.12/1.2-SNAPSHOT/firrtl_2.12-1.2-SNAPSHOT.pom.sha1\n",
      "Downloading https://repo1.maven.org/maven2/edu/berkeley/cs/firrtl_2.12/1.2-SNAPSHOT/maven-metadata.xml\n",
      "Downloading https://repo1.maven.org/maven2/edu/berkeley/cs/firrtl_2.12/1.2-SNAPSHOT/maven-metadata.xml.sha1\n",
      "Downloading https://repo1.maven.org/maven2/edu/berkeley/cs/chisel-iotesters_2.12/1.3-SNAPSHOT/chisel-iotesters_2.12-1.3-SNAPSHOT.pom\n",
      "Downloading https://repo1.maven.org/maven2/edu/berkeley/cs/chisel-iotesters_2.12/1.3-SNAPSHOT/chisel-iotesters_2.12-1.3-SNAPSHOT.pom.sha1\n",
      "Downloading https://repo1.maven.org/maven2/edu/berkeley/cs/chisel-iotesters_2.12/1.3-SNAPSHOT/maven-metadata.xml.sha1\n",
      "Downloading https://repo1.maven.org/maven2/edu/berkeley/cs/chisel-iotesters_2.12/1.3-SNAPSHOT/maven-metadata.xml\n",
      "Downloading https://repo1.maven.org/maven2/edu/berkeley/cs/firrtl-interpreter_2.12/1.2-SNAPSHOT/firrtl-interpreter_2.12-1.2-SNAPSHOT.pom\n",
      "Downloading https://repo1.maven.org/maven2/edu/berkeley/cs/chisel3_2.12/3.2-SNAPSHOT/chisel3_2.12-3.2-SNAPSHOT.pom\n",
      "Downloading https://repo1.maven.org/maven2/edu/berkeley/cs/chisel3_2.12/3.2-SNAPSHOT/chisel3_2.12-3.2-SNAPSHOT.pom.sha1\n",
      "Downloading https://repo1.maven.org/maven2/edu/berkeley/cs/firrtl_2.12/1.2-SNAPSHOT/firrtl_2.12-1.2-SNAPSHOT.pom.sha1\n",
      "Downloading https://repo1.maven.org/maven2/edu/berkeley/cs/firrtl-interpreter_2.12/1.2-SNAPSHOT/firrtl-interpreter_2.12-1.2-SNAPSHOT.pom.sha1\n",
      "Downloading https://repo1.maven.org/maven2/edu/berkeley/cs/firrtl_2.12/1.2-SNAPSHOT/firrtl_2.12-1.2-SNAPSHOT.pom\n",
      "Downloading https://repo1.maven.org/maven2/edu/berkeley/cs/treadle_2.12/1.1-SNAPSHOT/treadle_2.12-1.1-SNAPSHOT.pom.sha1\n",
      "Downloading https://repo1.maven.org/maven2/edu/berkeley/cs/treadle_2.12/1.1-SNAPSHOT/treadle_2.12-1.1-SNAPSHOT.pom\n",
      "Downloading https://repo1.maven.org/maven2/edu/berkeley/cs/treadle_2.12/1.1-SNAPSHOT/maven-metadata.xml\n",
      "Downloading https://repo1.maven.org/maven2/edu/berkeley/cs/treadle_2.12/1.1-SNAPSHOT/maven-metadata.xml.sha1\n",
      "Downloading https://repo1.maven.org/maven2/edu/berkeley/cs/firrtl-interpreter_2.12/1.2-SNAPSHOT/maven-metadata.xml\n",
      "Downloading https://repo1.maven.org/maven2/edu/berkeley/cs/firrtl-interpreter_2.12/1.2-SNAPSHOT/maven-metadata.xml.sha1\n",
      "Downloading https://repo1.maven.org/maven2/edu/berkeley/cs/firrtl_2.12/1.2-SNAPSHOT/maven-metadata.xml.sha1\n",
      "Downloading https://repo1.maven.org/maven2/edu/berkeley/cs/firrtl_2.12/1.2-SNAPSHOT/maven-metadata.xml\n",
      "Downloading https://repo1.maven.org/maven2/edu/berkeley/cs/chisel3_2.12/3.2-SNAPSHOT/maven-metadata.xml.sha1\n",
      "Downloading https://repo1.maven.org/maven2/edu/berkeley/cs/chisel3_2.12/3.2-SNAPSHOT/maven-metadata.xml\n",
      "Downloading https://repo1.maven.org/maven2/edu/berkeley/cs/chisel-testers2_2.12/0.1-SNAPSHOT/chisel-testers2_2.12-0.1-SNAPSHOT.pom\n",
      "Downloading https://repo1.maven.org/maven2/edu/berkeley/cs/chisel-testers2_2.12/0.1-SNAPSHOT/chisel-testers2_2.12-0.1-SNAPSHOT.pom.sha1\n",
      "Downloading https://repo1.maven.org/maven2/edu/berkeley/cs/chisel-testers2_2.12/0.1-SNAPSHOT/maven-metadata.xml.sha1\n",
      "Downloading https://repo1.maven.org/maven2/edu/berkeley/cs/chisel-testers2_2.12/0.1-SNAPSHOT/maven-metadata.xml\n",
      "Downloading https://repo1.maven.org/maven2/edu/berkeley/cs/treadle_2.12/1.1-SNAPSHOT/treadle_2.12-1.1-SNAPSHOT.pom\n",
      "Downloading https://repo1.maven.org/maven2/edu/berkeley/cs/treadle_2.12/1.1-SNAPSHOT/treadle_2.12-1.1-SNAPSHOT.pom.sha1\n",
      "Downloading https://repo1.maven.org/maven2/edu/berkeley/cs/chisel3_2.12/3.2-SNAPSHOT/chisel3_2.12-3.2-SNAPSHOT.pom.sha1\n",
      "Downloading https://repo1.maven.org/maven2/edu/berkeley/cs/chisel3_2.12/3.2-SNAPSHOT/chisel3_2.12-3.2-SNAPSHOT.pom\n",
      "Downloading https://repo1.maven.org/maven2/edu/berkeley/cs/treadle_2.12/1.1-SNAPSHOT/maven-metadata.xml\n",
      "Downloading https://repo1.maven.org/maven2/edu/berkeley/cs/treadle_2.12/1.1-SNAPSHOT/maven-metadata.xml.sha1\n",
      "Downloading https://repo1.maven.org/maven2/edu/berkeley/cs/chisel3_2.12/3.2-SNAPSHOT/maven-metadata.xml.sha1\n",
      "Downloading https://repo1.maven.org/maven2/edu/berkeley/cs/chisel3_2.12/3.2-SNAPSHOT/maven-metadata.xml\n",
      "Downloading https://repo1.maven.org/maven2/edu/berkeley/cs/firrtl_2.12/1.2-SNAPSHOT/firrtl_2.12-1.2-SNAPSHOT.pom.sha1\n",
      "Downloading https://repo1.maven.org/maven2/edu/berkeley/cs/firrtl_2.12/1.2-SNAPSHOT/firrtl_2.12-1.2-SNAPSHOT.pom\n",
      "Downloading https://repo1.maven.org/maven2/edu/berkeley/cs/firrtl_2.12/1.2-SNAPSHOT/maven-metadata.xml.sha1\n",
      "Downloading https://repo1.maven.org/maven2/edu/berkeley/cs/firrtl_2.12/1.2-SNAPSHOT/maven-metadata.xml\n",
      "Downloading https://repo1.maven.org/maven2/net/sourceforge/f2j/arpack_combined_all/0.1/arpack_combined_all-0.1-sources.jar.sha1\n",
      "Downloading https://repo1.maven.org/maven2/net/sourceforge/f2j/arpack_combined_all/0.1/arpack_combined_all-0.1-sources.jar\n",
      "Downloading https://repo1.maven.org/maven2/net/sourceforge/f2j/arpack_combined_all/0.1/arpack_combined_all-0.1-sources.jar.sha1\n",
      "Downloading https://repo1.maven.org/maven2/net/sourceforge/f2j/arpack_combined_all/0.1/arpack_combined_all-0.1-sources.jar\n",
      "Downloading https://repo1.maven.org/maven2/edu/berkeley/cs/rocket-dsptools_2.12/1.2-020719-SNAPSHOT/rocket-dsptools_2.12-1.2-020719-SNAPSHOT.pom.sha1\n",
      "Downloading https://repo1.maven.org/maven2/edu/berkeley/cs/rocket-dsptools_2.12/1.2-020719-SNAPSHOT/rocket-dsptools_2.12-1.2-020719-SNAPSHOT.pom\n",
      "Downloading https://repo1.maven.org/maven2/edu/berkeley/cs/rocket-dsptools_2.12/1.2-020719-SNAPSHOT/maven-metadata.xml\n",
      "Downloading https://repo1.maven.org/maven2/edu/berkeley/cs/rocket-dsptools_2.12/1.2-020719-SNAPSHOT/maven-metadata.xml.sha1\n",
      "Downloading https://repo1.maven.org/maven2/edu/berkeley/cs/chisel3_2.12/3.2-020719-SNAPSHOT/chisel3_2.12-3.2-020719-SNAPSHOT.pom\n",
      "Downloading https://repo1.maven.org/maven2/edu/berkeley/cs/chisel-iotesters_2.12/1.3-020719-SNAPSHOT/chisel-iotesters_2.12-1.3-020719-SNAPSHOT.pom\n",
      "Downloading https://repo1.maven.org/maven2/edu/berkeley/cs/dsptools_2.12/1.2-020719-SNAPSHOT/dsptools_2.12-1.2-020719-SNAPSHOT.pom\n",
      "Downloading https://repo1.maven.org/maven2/edu/berkeley/cs/dsptools_2.12/1.2-020719-SNAPSHOT/dsptools_2.12-1.2-020719-SNAPSHOT.pom.sha1\n",
      "Downloading https://repo1.maven.org/maven2/edu/berkeley/cs/chisel3_2.12/3.2-020719-SNAPSHOT/chisel3_2.12-3.2-020719-SNAPSHOT.pom.sha1\n",
      "Downloading https://repo1.maven.org/maven2/edu/berkeley/cs/chisel-iotesters_2.12/1.3-020719-SNAPSHOT/chisel-iotesters_2.12-1.3-020719-SNAPSHOT.pom.sha1\n",
      "Downloading https://repo1.maven.org/maven2/edu/berkeley/cs/rocketchip_2.12/1.2-020719-SNAPSHOT/rocketchip_2.12-1.2-020719-SNAPSHOT.pom\n",
      "Downloading https://repo1.maven.org/maven2/edu/berkeley/cs/rocketchip_2.12/1.2-020719-SNAPSHOT/rocketchip_2.12-1.2-020719-SNAPSHOT.pom.sha1\n",
      "Downloading https://repo1.maven.org/maven2/edu/berkeley/cs/dsptools_2.12/1.2-020719-SNAPSHOT/maven-metadata.xml.sha1\n",
      "Downloading https://repo1.maven.org/maven2/edu/berkeley/cs/dsptools_2.12/1.2-020719-SNAPSHOT/maven-metadata.xml\n",
      "Downloading https://repo1.maven.org/maven2/edu/berkeley/cs/chisel3_2.12/3.2-020719-SNAPSHOT/maven-metadata.xml.sha1\n",
      "Downloading https://repo1.maven.org/maven2/edu/berkeley/cs/chisel3_2.12/3.2-020719-SNAPSHOT/maven-metadata.xml\n",
      "Downloading https://repo1.maven.org/maven2/edu/berkeley/cs/rocketchip_2.12/1.2-020719-SNAPSHOT/maven-metadata.xml\n",
      "Downloading https://repo1.maven.org/maven2/edu/berkeley/cs/rocketchip_2.12/1.2-020719-SNAPSHOT/maven-metadata.xml.sha1\n",
      "Downloading https://repo1.maven.org/maven2/edu/berkeley/cs/chisel-iotesters_2.12/1.3-020719-SNAPSHOT/maven-metadata.xml\n",
      "Downloading https://repo1.maven.org/maven2/edu/berkeley/cs/chisel-iotesters_2.12/1.3-020719-SNAPSHOT/maven-metadata.xml.sha1\n",
      "Downloading https://repo1.maven.org/maven2/edu/berkeley/cs/hardfloat_2.12/1.2-020719-SNAPSHOT/hardfloat_2.12-1.2-020719-SNAPSHOT.pom.sha1\n"
     ]
    },
    {
     "name": "stderr",
     "output_type": "stream",
     "text": [
      "Downloading https://repo1.maven.org/maven2/edu/berkeley/cs/firrtl-interpreter_2.12/1.2-020719-SNAPSHOT/firrtl-interpreter_2.12-1.2-020719-SNAPSHOT.pom.sha1\n",
      "Downloading https://repo1.maven.org/maven2/edu/berkeley/cs/treadle_2.12/1.1-020719-SNAPSHOT/treadle_2.12-1.1-020719-SNAPSHOT.pom.sha1\n",
      "Downloading https://repo1.maven.org/maven2/edu/berkeley/cs/firrtl-interpreter_2.12/1.2-020719-SNAPSHOT/firrtl-interpreter_2.12-1.2-020719-SNAPSHOT.pom\n",
      "Downloading https://repo1.maven.org/maven2/edu/berkeley/cs/treadle_2.12/1.1-020719-SNAPSHOT/treadle_2.12-1.1-020719-SNAPSHOT.pom\n",
      "Downloading https://repo1.maven.org/maven2/edu/berkeley/cs/firrtl_2.12/1.2-020719-SNAPSHOT/firrtl_2.12-1.2-020719-SNAPSHOT.pom.sha1\n",
      "Downloading https://repo1.maven.org/maven2/edu/berkeley/cs/firrtl_2.12/1.2-020719-SNAPSHOT/firrtl_2.12-1.2-020719-SNAPSHOT.pom\n",
      "Downloading https://repo1.maven.org/maven2/edu/berkeley/cs/rocket-macros_2.12/1.2-020719-SNAPSHOT/rocket-macros_2.12-1.2-020719-SNAPSHOT.pom\n",
      "Downloading https://repo1.maven.org/maven2/edu/berkeley/cs/rocket-macros_2.12/1.2-020719-SNAPSHOT/rocket-macros_2.12-1.2-020719-SNAPSHOT.pom.sha1\n",
      "Downloading https://repo1.maven.org/maven2/edu/berkeley/cs/hardfloat_2.12/1.2-020719-SNAPSHOT/hardfloat_2.12-1.2-020719-SNAPSHOT.pom\n",
      "Downloading https://repo1.maven.org/maven2/edu/berkeley/cs/firrtl-interpreter_2.12/1.2-020719-SNAPSHOT/maven-metadata.xml\n",
      "Downloading https://repo1.maven.org/maven2/edu/berkeley/cs/firrtl-interpreter_2.12/1.2-020719-SNAPSHOT/maven-metadata.xml.sha1\n",
      "Downloading https://repo1.maven.org/maven2/edu/berkeley/cs/treadle_2.12/1.1-020719-SNAPSHOT/maven-metadata.xml\n",
      "Downloading https://repo1.maven.org/maven2/edu/berkeley/cs/treadle_2.12/1.1-020719-SNAPSHOT/maven-metadata.xml.sha1\n",
      "Downloading https://repo1.maven.org/maven2/edu/berkeley/cs/rocket-macros_2.12/1.2-020719-SNAPSHOT/maven-metadata.xml\n",
      "Downloading https://repo1.maven.org/maven2/edu/berkeley/cs/rocket-macros_2.12/1.2-020719-SNAPSHOT/maven-metadata.xml.sha1\n",
      "Downloading https://repo1.maven.org/maven2/edu/berkeley/cs/firrtl_2.12/1.2-020719-SNAPSHOT/maven-metadata.xml\n",
      "Downloading https://repo1.maven.org/maven2/edu/berkeley/cs/hardfloat_2.12/1.2-020719-SNAPSHOT/maven-metadata.xml\n",
      "Downloading https://repo1.maven.org/maven2/edu/berkeley/cs/hardfloat_2.12/1.2-020719-SNAPSHOT/maven-metadata.xml.sha1\n",
      "Downloading https://repo1.maven.org/maven2/edu/berkeley/cs/firrtl_2.12/1.2-020719-SNAPSHOT/maven-metadata.xml.sha1\n",
      "Downloading https://repo1.maven.org/maven2/net/sourceforge/f2j/arpack_combined_all/0.1/arpack_combined_all-0.1-sources.jar\n",
      "Downloading https://repo1.maven.org/maven2/net/sourceforge/f2j/arpack_combined_all/0.1/arpack_combined_all-0.1-sources.jar.sha1\n"
     ]
    },
    {
     "name": "stdout",
     "output_type": "stream",
     "text": [
      "Compiling /home/thonner/MyDrive/DTU/9_Semester/SCDE2/chisel-intro-de2/Main.sc #2"
     ]
    },
    {
     "data": {
      "text/plain": [
       "\u001b[36mpath\u001b[39m: \u001b[32mString\u001b[39m = \u001b[32m\"/home/thonner/MyDrive/DTU/9_Semester/SCDE2/chisel-intro-de2/source/load-ivy.sc\"\u001b[39m"
      ]
     },
     "execution_count": 1,
     "metadata": {},
     "output_type": "execute_result"
    }
   ],
   "source": [
    "val path = System.getProperty(\"user.dir\") + \"/source/load-ivy.sc\"\n",
    "interp.load.module(ammonite.ops.Path(java.nio.file.FileSystems.getDefault().getPath(path)))"
   ]
  },
  {
   "cell_type": "code",
   "execution_count": 2,
   "metadata": {},
   "outputs": [
    {
     "data": {
      "text/plain": [
       "\u001b[32mimport \u001b[39m\u001b[36mchisel3._\n",
       "\u001b[39m\n",
       "\u001b[32mimport \u001b[39m\u001b[36mchisel3.util._\n",
       "\u001b[39m\n",
       "\u001b[32mimport \u001b[39m\u001b[36mchisel3.iotesters.{ChiselFlatSpec, Driver, PeekPokeTester}\u001b[39m"
      ]
     },
     "execution_count": 2,
     "metadata": {},
     "output_type": "execute_result"
    }
   ],
   "source": [
    "import chisel3._\n",
    "import chisel3.util._\n",
    "import chisel3.iotesters.{ChiselFlatSpec, Driver, PeekPokeTester}"
   ]
  },
  {
   "cell_type": "markdown",
   "metadata": {},
   "source": [
    "# Late night at DTU? Order a pizza!\n",
    "You're behind on your assignment. You have decided to take a late night at DTU to get on top of things. As its starting to get late you start to feel hungry. You decide to order a Pizza. As you see no end on your assignment you don't want to spend time ordering the pizza. Luckily your friend has written a Chisel code that describes a piece of hardware that can order your favourite pizza with only one press of a button. After having pressed the button and waited an hour without any pizza being delivered, you figure that there must be a bug in his hardware. To show your friend your superior hardware and Chisel knowledge you decide to fix his code. As documentation your friend has provided a FSM diagram, and the following description of the logic in each state.\n",
    "\n",
    "idle: reset the wait counter to 15 (is set low for its purpose to make the looking at the waveform less tedious).  \n",
    "setNumber: sets the phone number to be called.  \n",
    "call: decrement counter until 0 is reached.  \n",
    "respond: start prerecorded ordering message.  \n",
    "success: turn on success LED indicator.  \n",
    "alert: turn on alarm LED indicator.  \n",
    "\n",
    "![pizzaFSM](images/pizzaFSM.png)"
   ]
  },
  {
   "cell_type": "markdown",
   "metadata": {},
   "source": [
    "Below the source code is given. To debug the code you need to take a look a the waveforms that the hardware generates. First step to run the code below. Afterwards we will run a test sequence using chisels peek-poke-tester. Peek-poke-tester can generate a .vcd file with the wavefroms produced from the test sequence. This is done in the last code block."
   ]
  },
  {
   "cell_type": "code",
   "execution_count": 3,
   "metadata": {},
   "outputs": [
    {
     "data": {
      "text/plain": [
       "defined \u001b[32mclass\u001b[39m \u001b[36mPizzaOrdering\u001b[39m"
      ]
     },
     "execution_count": 3,
     "metadata": {},
     "output_type": "execute_result"
    }
   ],
   "source": [
    "class PizzaOrdering() extends Module {\n",
    "    val io = IO(new Bundle {\n",
    "        val input      = Input(Bool())\n",
    "        val pickUp     = Input(Bool())\n",
    "        \n",
    "        val startMsg   = Output(Bool())\n",
    "        val succesLED  = Output(Bool())\n",
    "        val alarmLED   = Output(Bool())\n",
    "    })\n",
    "    \n",
    "    val idle :: setNumber :: call :: respond :: success :: alarm :: Nil = Enum(6)\n",
    "    \n",
    "    val stateReg = RegInit(idle)\n",
    "    \n",
    "    val waitCntReg = RegInit(15.U)\n",
    "    \n",
    "    val number = Wire(UInt(32.W))\n",
    "    \n",
    "    \n",
    "    \n",
    "    switch(stateReg){\n",
    "        is (idle) {\n",
    "            when(io.input){\n",
    "                stateReg := setNumber\n",
    "            }\n",
    "        }\n",
    "        is (setNumber) {\n",
    "            stateReg := call\n",
    "        }\n",
    "        is (call) {\n",
    "            when(io.pickUp){\n",
    "                stateReg := respond\n",
    "            }.elsewhen (waitCntReg === 0.U){\n",
    "                stateReg := success\n",
    "            }\n",
    "            \n",
    "        }\n",
    "        is (respond) {\n",
    "            stateReg := success\n",
    "        }\n",
    "        is (success) {\n",
    "            when(io.input){\n",
    "                stateReg := idle\n",
    "            }\n",
    "        }\n",
    "        is (alarm) {\n",
    "            when(io.input){\n",
    "                stateReg := idle\n",
    "            }\n",
    "        }\n",
    "    }\n",
    "    \n",
    "    number       := 0.U\n",
    "    io.startMsg  := false.B\n",
    "    io.succesLED := false.B\n",
    "    io.alarmLED  := false.B\n",
    "    \n",
    "    switch(stateReg){\n",
    "        is (idle) {\n",
    "            waitCntReg := 15.U\n",
    "        }\n",
    "        is (setNumber) {\n",
    "            number := Cat(4.U(4.W), 5.U(4.W), 8.U(4.W), 7.U(4.W), 0.U(4.W), 6.U(4.W), 1.U(4.W), 6.U(4.W))\n",
    "        }\n",
    "        is (call) {\n",
    "            when(waitCntReg != 0.U){\n",
    "                waitCntReg := waitCntReg - 1.U\n",
    "            }\n",
    "        }\n",
    "        is (respond) {\n",
    "            io.startMsg := true.B\n",
    "        }\n",
    "        is (success){\n",
    "            io.succesLED := true.B\n",
    "        }\n",
    "        is (alarm){\n",
    "            io.alarmLED := true.B\n",
    "        }\n",
    "    }\n",
    "}"
   ]
  },
  {
   "cell_type": "markdown",
   "metadata": {},
   "source": [
    "## Generating a VCD file\n",
    "In the code below we will generate the waveform to a .vcd file. Which we can inspect in GTKWave.\n",
    "\n",
    "When calling the PeekPokeTester, we include three arguments:\n",
    "\n",
    "* \"--generate-vcd-output\",\"on\"\n",
    "    * Tells the backend to generate a VCD file.\n",
    "* \"-tn\", \"Pizza\"\n",
    "    * TopName, tells the name of the top module.\n",
    "    * This is only used because we run in Jupyter Notebook, which would otherwise give a mangled name.\n",
    "* \"-target-dir\", \"generated\"\n",
    "    * Choose the folder/directory to save the output in."
   ]
  },
  {
   "cell_type": "code",
   "execution_count": 4,
   "metadata": {
    "scrolled": false
   },
   "outputs": [
    {
     "name": "stdout",
     "output_type": "stream",
     "text": [
      "[\u001b[35minfo\u001b[0m] [0.002] Elaborating design...\n",
      "[\u001b[34mdeprecated\u001b[0m] Bits.scala:585 (1 calls): $bang$eq is deprecated: \"Use \\'=/=\\', which avoids potential precedence problems\"\n",
      "[\u001b[33mwarn\u001b[0m] \u001b[33mThere were 1 deprecated function(s) used. These may stop compiling in a future release - you are encouraged to fix these issues.\u001b[0m\n",
      "[\u001b[33mwarn\u001b[0m] Line numbers for deprecations reported by Chisel may be inaccurate; enable scalac compiler deprecation warnings via either of the following methods:\n",
      "[\u001b[33mwarn\u001b[0m]   In the sbt interactive console, enter:\n",
      "[\u001b[33mwarn\u001b[0m]     set scalacOptions in ThisBuild ++= Seq(\"-unchecked\", \"-deprecation\")\n",
      "[\u001b[33mwarn\u001b[0m]   or, in your build.sbt, add the line:\n",
      "[\u001b[33mwarn\u001b[0m]     scalacOptions := Seq(\"-unchecked\", \"-deprecation\")\n",
      "[\u001b[35minfo\u001b[0m] [0.868] Done elaborating.\n",
      "Total FIRRTL Compile Time: 452.8 ms\n",
      "file loaded in 0.110799874 seconds, 67 symbols, 59 statements\n",
      "[\u001b[35minfo\u001b[0m] [0.000] SEED 1574850154957\n",
      "test PizzaOrdering Success: 0 tests passed in 45 cycles in 0.060402 seconds 745.00 Hz\n",
      "[\u001b[35minfo\u001b[0m] [0.030] RAN 40 CYCLES PASSED\n"
     ]
    },
    {
     "data": {
      "text/plain": [
       "\u001b[36mtestResult\u001b[39m: \u001b[32mBoolean\u001b[39m = true"
      ]
     },
     "execution_count": 4,
     "metadata": {},
     "output_type": "execute_result"
    }
   ],
   "source": [
    "val testResult = Driver.execute(Array(\"--generate-vcd-output\",\"on\", \"-tn\", \"Pizza\",\"--target-dir\", \"generated\"),() => new PizzaOrdering()) {\n",
    "  c => new PeekPokeTester(c) {\n",
    "    step(3) //Move 50 clock cycle ahead.\n",
    "    poke(c.io.input, true)\n",
    "    step(1)\n",
    "    poke(c.io.input, false.B)\n",
    "    step(20)\n",
    "    poke(c.io.pickUp, true.B)\n",
    "    step(1)\n",
    "    poke(c.io.pickUp, false.B)\n",
    "    step(15)\n",
    "  }\n",
    "}"
   ]
  },
  {
   "cell_type": "markdown",
   "metadata": {},
   "source": [
    "# Verifying with GTKWave\n",
    "We can now look into the *generated* folder, which contains the Pizza.vcd file. This has the waveforms and can be opened in a program like GTKWave. Open the file using GTKWave and verify the result."
   ]
  },
  {
   "cell_type": "markdown",
   "metadata": {},
   "source": [
    "## Check the Waveform\n",
    "\n",
    "To show a waveform:\n",
    "- Open gtkwave\n",
    "- Click **file -> Open New Tab**\n",
    "- Navigate to the generated folder and open Pizza.vcd\n",
    "- choose the module on the left side, mark the signals you want to look at and click insert.\n",
    "\n",
    "You now have a set of signals you can look into. You're task is to find the bug and correct the PizzaOrdering() class.\n",
    "![GTKWave image](images/GTKWave.png)\n",
    "\n"
   ]
  }
 ],
 "metadata": {
  "kernelspec": {
   "display_name": "Scala",
   "language": "scala",
   "name": "scala"
  },
  "language_info": {
   "codemirror_mode": "text/x-scala",
   "file_extension": ".scala",
   "mimetype": "text/x-scala",
   "name": "scala",
   "nbconvert_exporter": "script",
   "version": "2.12.8"
  }
 },
 "nbformat": 4,
 "nbformat_minor": 2
}
