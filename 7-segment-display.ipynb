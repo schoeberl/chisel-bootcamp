{
 "cells": [
  {
   "cell_type": "markdown",
   "metadata": {},
   "source": [
    "# Driving the 7-segment display\n",
    "\n",
    "In this notebook, you will learn how to drive the 7-segment display. In order to do this, you will use counters, multiplexers and an input to the display. You will also use a look up table, which converts from the binary value into the 7-segment representation.\n",
    "\n",
    "\n",
    "## Table of Content\n",
    "* [1a: Hexadecimal to Seven-Segment Display](#HexTo7seg)\n",
    "* [1b: Test Drive the Seven-Segment Display](#testHex)\n",
    "* [2: Multiplexed Seven-Segment Display](#muxHex)\n",
    "* [3: Complete Vending Machine](#Complete)\n",
    "* [4: Extra](#extra)\n",
    "* [5: Top Level Module](#top)\n",
    "\n",
    "\n",
    "# Setting up the environment\n",
    "First, we run the following line to set up the environment. This is for Scala to download the dependencies for Chisel. This is the same as using a build.sbt file, just set up for these notebooks. This will be the first thing called in the notebooks."
   ]
  },
  {
   "cell_type": "code",
   "execution_count": null,
   "metadata": {},
   "outputs": [],
   "source": [
    "val path = System.getProperty(\"user.dir\") + \"/source/load-ivy.sc\"\n",
    "interp.load.module(ammonite.ops.Path(java.nio.file.FileSystems.getDefault().getPath(path)))"
   ]
  },
  {
   "cell_type": "markdown",
   "metadata": {},
   "source": [
    "Import the Chisel modules"
   ]
  },
  {
   "cell_type": "code",
   "execution_count": null,
   "metadata": {},
   "outputs": [],
   "source": [
    "import chisel3._\n",
    "import chisel3.util._\n",
    "import chisel3.iotesters.{ChiselFlatSpec, Driver, PeekPokeTester}"
   ]
  },
  {
   "cell_type": "markdown",
   "metadata": {},
   "source": [
    "<a id='HexTo7seg'></a>\n",
    "# 1a: Hexadecimal to Seven-Segment Display\n",
    "\n",
    "The first part is to make a 7-segment decoder, which takes a four bit binary value (0-15) and displays them on a 7-segment display on the basys board.\n",
    "\n",
    "\n",
    "![Image of 7 segment display](images/7segment.png \"https://en.wikipedia.org/wiki/Seven-segment_display#/media/File:7_Segment_Display_with_Labeled_Segments.svg\")\n",
    "\n",
    "\n",
    "To show a 0, we would turn on all segments, except G (and the decimal point, DP).\n",
    "\n",
    "Complete the following table, indicating what segments should be lit when showing which number:"
   ]
  },
  {
   "cell_type": "raw",
   "metadata": {},
   "source": [
    "╔════╦═══╦═══╦═══╦═══╦═══╦═══╦═══╗\n",
    "║    ║ A ║ B ║ C ║ D ║ E ║ F ║ G ║\n",
    "╠════╬═══╬═══╬═══╬═══╬═══╬═══╬═══╣\n",
    "║ 0  ║ 1 ║ 1 ║ 1 ║ 1 ║ 1 ║ 1 ║ 0 ║\n",
    "╠════╬═══╬═══╬═══╬═══╬═══╬═══╬═══╣\n",
    "║ 1  ║   ║   ║   ║   ║   ║   ║   ║\n",
    "╠════╬═══╬═══╬═══╬═══╬═══╬═══╬═══╣\n",
    "║ 2  ║   ║   ║   ║   ║   ║   ║   ║\n",
    "╠════╬═══╬═══╬═══╬═══╬═══╬═══╬═══╣\n",
    "║ 3  ║   ║   ║   ║   ║   ║   ║   ║\n",
    "╠════╬═══╬═══╬═══╬═══╬═══╬═══╬═══╣\n",
    "║ 4  ║   ║   ║   ║   ║   ║   ║   ║\n",
    "╠════╬═══╬═══╬═══╬═══╬═══╬═══╬═══╣\n",
    "║ 5  ║   ║   ║   ║   ║   ║   ║   ║\n",
    "╠════╬═══╬═══╬═══╬═══╬═══╬═══╬═══╣\n",
    "║ 6  ║   ║   ║   ║   ║   ║   ║   ║\n",
    "╠════╬═══╬═══╬═══╬═══╬═══╬═══╬═══╣\n",
    "║ 7  ║   ║   ║   ║   ║   ║   ║   ║\n",
    "╠════╬═══╬═══╬═══╬═══╬═══╬═══╬═══╣\n",
    "║ 8  ║   ║   ║   ║   ║   ║   ║   ║\n",
    "╠════╬═══╬═══╬═══╬═══╬═══╬═══╬═══╣\n",
    "║ 9  ║   ║   ║   ║   ║   ║   ║   ║\n",
    "╠════╬═══╬═══╬═══╬═══╬═══╬═══╬═══╣\n",
    "║ 10 ║   ║   ║   ║   ║   ║   ║   ║\n",
    "╠════╬═══╬═══╬═══╬═══╬═══╬═══╬═══╣\n",
    "║ 11 ║   ║   ║   ║   ║   ║   ║   ║\n",
    "╠════╬═══╬═══╬═══╬═══╬═══╬═══╬═══╣\n",
    "║ 12 ║   ║   ║   ║   ║   ║   ║   ║\n",
    "╠════╬═══╬═══╬═══╬═══╬═══╬═══╬═══╣\n",
    "║ 13 ║   ║   ║   ║   ║   ║   ║   ║\n",
    "╠════╬═══╬═══╬═══╬═══╬═══╬═══╬═══╣\n",
    "║ 14 ║   ║   ║   ║   ║   ║   ║   ║\n",
    "╠════╬═══╬═══╬═══╬═══╬═══╬═══╬═══╣\n",
    "║ 15 ║   ║   ║   ║   ║   ║   ║   ║\n",
    "╚════╩═══╩═══╩═══╩═══╩═══╩═══╩═══╝"
   ]
  },
  {
   "cell_type": "markdown",
   "metadata": {},
   "source": [
    "You now have what looks an awful lot like a truth table for several outputs.\n",
    "\n",
    "The next point is to define the decoder. We have given you the module definition. You need to fill out the code to generate the look up table. Remember to connect the output. Do you get an error? Try the [FAQ](https://github.com/schoeberl/chisel-intro-de2/blob/master/FAQ.md)."
   ]
  },
  {
   "cell_type": "code",
   "execution_count": null,
   "metadata": {},
   "outputs": [],
   "source": [
    "class SevenSegDecoder() extends Module {\n",
    "    \n",
    "    val io = IO(new Bundle {\n",
    "        val in = Input(UInt(4.W))\n",
    "        val out = Output(Bits(7.W))\n",
    "    })\n",
    "    \n",
    "    \n",
    "    //Make an output wire\n",
    "    \n",
    "    \n",
    "    //Connect this wire to different values, depending on the input\n",
    "    \n",
    "    \n",
    "    //Don't forget to connect the output of the module\n",
    "    io.out := \"b1010101\".U\n",
    "}"
   ]
  },
  {
   "cell_type": "markdown",
   "metadata": {},
   "source": [
    "## Testing the output\n",
    "\n",
    "Below we have made a PeekPokeTester for you. This example takes a module called SevenSegDecoder and applies the binary values from 0 to 15. This is done using the poke method. The function, print7Segment may seem daunting, but you do not have to know how it works. What it does is simply to print 4 lines, the first being the hexadecimal representation and the next three lines are printing either \"_\" or \"|\" depending on whether the bit for these are turned on.\n",
    "\n",
    "For the number 8, you would expect to see\n",
    "<pre>\n",
    " _\n",
    "|_|\n",
    "|_|\n",
    "\n",
    "</pre>"
   ]
  },
  {
   "cell_type": "code",
   "execution_count": null,
   "metadata": {
    "scrolled": true
   },
   "outputs": [],
   "source": [
    "def print7Segment(x:BigInt,y: Int){\n",
    "    println(y.toHexString)                       //Print the hexadecimal value\n",
    "    println(if ((x & 0x40) != 0) \" _\"  else \" \") //Print top \"_\"\n",
    "    print(if((x & 0x2) != 0) \"|\" else \" \")       //Print top left \"|\"\n",
    "    print(if((x & 0x1) != 0) \"_\" else \" \")       //Print middle \"_\"\n",
    "    println(if((x & 0x20) != 0) \"|\" else \" \")    //Print top right \"|\"\n",
    "    print(if((x & 0x4) != 0) \"|\" else \" \")       //Print lower left \"|\"\n",
    "    print(if((x & 0x8) != 0) \"_\" else \" \")       //Print lower \"_\"\n",
    "    println(if((x & 0x10) != 0) \"|\" else \" \")    //Print lower right \"|\"\n",
    "    println()                                    //Print empty line\n",
    "}\n",
    "\n",
    "Driver.execute(Array(),() => new SevenSegDecoder()) {\n",
    "  c => new PeekPokeTester(c) {\n",
    "      \n",
    "    for (value <- 0 until 16) {\n",
    "        poke(c.io.in, value) //We apply a value to the input\n",
    "        println(peek(c.io.out).toString(2).reverse.padTo(7,'0').reverse) //And check the value on the output.\n",
    "        print7Segment(peek(c.io.out),value) //Here we print the result, as it would look on the 7-segment display.\n",
    "    }\n",
    "  }\n",
    "}"
   ]
  },
  {
   "cell_type": "markdown",
   "metadata": {},
   "source": [
    "# Implement onto the Basys board\n",
    "We can now test out the 7-segment display on the board, to verify that everything works as expected.\n",
    "\n",
    "The figure below shows how the hardware is made on the Basys 3 board. *(a)* shows how the power goes through a p-type Mosfet or p-type transistor. Refer to [Basys 3 reference manual](https://reference.digilentinc.com/reference/programmable-logic/basys-3/reference-manual#basic_io) in case you are in doubt. Notice that the power comes from *Vdd* and goes through the mosfet on to the segments. Assuming that the mosfet connected to AN3 is conducting, what will need to be applied to *CA* to make the *A* segment lit?\n",
    "\n",
    "![Image of 7 segment in hardware](images/7seg_hardware.png)\n",
    "\n",
    "\n",
    "[At the bottom of this document](#top) you will find a top module for the vending machine. Read the description and add your seven segment decoder to this, have the Verilog generated, implement it using Vivado and verify that it works as expected.\n",
    "\n",
    "Use the switches to drive the decoder and output the decoder to the segments.\n",
    "\n",
    "Did the output look as expected when counting on the switches? Refer to the [FAQ](https://github.com/schoeberl/chisel-intro-de2/blob/master/FAQ.md) if any issues."
   ]
  },
  {
   "cell_type": "markdown",
   "metadata": {},
   "source": [
    "<a id='testHex'></a>\n",
    "# 1b: Test Drive the Seven-Segment Display\n",
    "\n",
    "The next goal is to make a counter for the 7-segment display, so we do not have to set the switches. There are two goals in this.\n",
    "* We need to count from 0 to 15 (2^4 - 1)\n",
    "* We need to increment with a frequency of i.e. 1 Hz\n",
    "\n",
    "\n",
    "## Tick based counter\n",
    "When doing a counter, we would like it to count at a reasonable frequency, such as once a second. Implement a counter class which outputs a 4 bit counter at a reasonable rate. If in doubt, refer to [Digital Design with Chisel, Chapter 6, section 2](https://github.com/schoeberl/chisel-book/wiki/chisel-book.pdf). ***Remember to draw your circuit before describing it in Chisel***\n",
    "\n",
    "**Hint** You need to have a counter that generates the tick for the other counter. Basys3 has a clock frequency of 100MHz"
   ]
  },
  {
   "cell_type": "code",
   "execution_count": null,
   "metadata": {},
   "outputs": [],
   "source": [
    "class Counter() extends Module {\n",
    "    val io = IO(new Bundle {\n",
    "        val out = Output(UInt(4.W)) //The counter has 4 bits of output.\n",
    "    })\n",
    "    \n",
    "    \n",
    "    //Describe the counter\n",
    "    \n",
    "    \n",
    "    //And don't forget to connect the output\n",
    "    io.out := 0.U\n",
    "}\n"
   ]
  },
  {
   "cell_type": "markdown",
   "metadata": {},
   "source": [
    "You may want to test that your counter actually counts as expected. Try and generate a counter which counts up every tenth cycle. You can then use the below tester to verify the result (Running 100,000,000 cycles to check that it changes every second is quite slow). You would expect that the same number is shown 10 times and is then incremented once."
   ]
  },
  {
   "cell_type": "code",
   "execution_count": null,
   "metadata": {
    "scrolled": true
   },
   "outputs": [],
   "source": [
    "val testResult = Driver.execute(Array(),() => new Counter()) {\n",
    "  c => new PeekPokeTester(c) {\n",
    "      \n",
    "    for (value <- 0 until 50) { //We check 50 times.\n",
    "        println(peek(c.io.out).toString ) //Print the value on the output.\n",
    "        step(1) //Move 1 clock cycle ahead.\n",
    "    }\n",
    "  }\n",
    "}"
   ]
  },
  {
   "cell_type": "markdown",
   "metadata": {},
   "source": [
    "# Generate the code\n",
    "\n",
    "Extend the top module at the bottom, so that it uses a counter instead of the switches. You can either use the counter module you wrote or you can describe the counter directly.\n",
    "\n",
    "\n",
    "## Which way is the best way? \n",
    "*It depends!*\n",
    "\n",
    "When working in larger projects, it is usually nice to have different modules to get a better overview. This also allows for testing the different modules. However, if you make too many modules, it can be harder to understand what is happening when reading the code. \n",
    "\n",
    "As a rule of thumb, if you need to have multiple pieces of the same hardware, it makes sense to make a module. This way, if you need to change these modules, you only need to change them in one place.\n",
    "\n",
    "If there is more boiler plate code than actual code in your module, you would probably be better off to just write the hardware directly."
   ]
  },
  {
   "cell_type": "markdown",
   "metadata": {},
   "source": [
    "<a id='muxHex'></a>\n",
    "# 2: Multiplexed Seven-Segment Display\n",
    "You now have a 7-segment decoder and a counter that can drive the 7-segment display. But as you must have noticed, all the segments showed the same. This is because the display uses the same 7 wires for all the segments. However, you can control which set of segments are lit by setting the AN signal. Digilent, who made the Basys board, has an excellent overview of how the 7-segment display works, in their [Basys 3 reference manual](https://reference.digilentinc.com/reference/programmable-logic/basys-3/reference-manual#basic_io). Read the section about the 7-segment display with a focus on the multiplexing part.\n",
    "\n",
    "![Image of multiplexing](images/multiplexing.png)\n",
    "\n",
    "When showing an output on one 7-segment display, you can show the numbers from 0 to 15. When using all four displays, you can show 4 numbers from 0 to 15 for a total of 65536 numbers.\n",
    "\n",
    "In the vending machine, you will be showing one value on the two leftmost displays and another value on the two rightmost displays. Sketch how you would perform this, given two 8 bit numbers time-multiplexed onto the 7-segment display, using the 7-segment decoder.\n",
    "\n",
    "**Hint** Multiplexers are a great way of choosing between data\n",
    "\n",
    "**Hint** Counters are a great way of counting to 4, which coincides with the number of displays that needs to be turned on.\n",
    "\n",
    "## Performing Multiplexing\n",
    "Implement the time-multiplexing as you have drawn it on the paper. You need to change the display with a frequency of more than 240 Hz but less than 1 KHz. Remember that the clock frequency of the Basys 3 board is 100 MHz.\n",
    "\n",
    "Add the code to the top level module in the bottom. You can either write it directly or you can make a module for it. This is up to you, the designer!"
   ]
  },
  {
   "cell_type": "markdown",
   "metadata": {},
   "source": [
    "# Optional\n",
    "\n",
    "You now have a 7-segment display showing a hexadecimal number. This can be difficult to interpret at a glance. What number is CA? Therefore, we can do a Binary-Coded Decimal (BCD) representation by encoding the value we wish to output. How many bits can you represent with two decimal numbers?\n",
    "\n",
    "The following module generates a big look-up table that encodes N bits into an M bit BCD number. Connect this before the number you would like to show. ***Remember to draw the hardware before you describe it in Chisel!***"
   ]
  },
  {
   "cell_type": "code",
   "execution_count": null,
   "metadata": {},
   "outputs": [],
   "source": [
    "class BCDTable() extends Module {\n",
    "    val io = IO(new Bundle {\n",
    "        val address = Input(UInt(8.W))\n",
    "        val data = Output(UInt(8.W))\n",
    "    })\n",
    "    \n",
    "    val lookup = new Array[Int](256)\n",
    "    \n",
    "    \n",
    "    for (i <- 0 until 99){\n",
    "        lookup(i) = ((i/10)<<4) + i % 10\n",
    "    }\n",
    "    \n",
    "    val table = VecInit(lookup.map(_.U(8.W)))\n",
    "    \n",
    "    io.data := table(io.address)\n",
    "}"
   ]
  },
  {
   "cell_type": "markdown",
   "metadata": {},
   "source": [
    "<a id='Complete'></a>\n",
    "# 3: Complete Vending Machine\n",
    "In this final part, you will implement the rest of the vending machine.\n",
    "\n",
    "## Design\n",
    "The first step is to design a datapath. To do this you need to determine what data you need to store and manipulate.  This defines the registers in the datapath. By data we mean variables and not constants. Constants in hardware is just a matter of connecting signals to Vdd and Ground. Then you determine what operations you need to perform on the data. An operation is performed during a clock cycle and some example operations are *sum <= sum + 5* or *sum <= sum - price*. List all the operations that your datapath should be capable of performing. Based on this list of clock-cycle operations and the list of registers you should be able to design a datapath. There is a lot of freedom and many alternatives. In our case it should suffice to be able to do one single arithmetic operation in a clock cycle, i.e., to use only one single adder/subtractor in the datapath. When the datapath is in place, the next step is to design the finite state machine that will control the sequence of operations in the datapath and deliver the output signals *release_can* and *alarm*.\n",
    "In summary, the design phase involves the following:\n",
    "\n",
    "* A list of registers and “clock cycle operations” to be supported by the datapath\n",
    "* A diagram showing an intended datapath design (registers, multiplexers, adders/subtractors etc.)\n",
    "* A complete ASM-chart specification of the central processing unit or a state-graph of the FSM.\n",
    "* A test sequence for simulating your design (a timing diagram and/or a Chisel PeekPokeTester).\n",
    "\n",
    "A comment about the input signals: You should be aware of the fact that the signals will be asserted for as many clock cycles as you push the buttons and switches. For *reset* and *buy* this is what you want and need to deal with. For signals *coin2* and *coin5* you do not want to add *2 kr.* or *5 kr.* for as many cycles as you push the corresponding button. To avoid this the FSM in your *vending_machine_cpu* must respond to the rising edge and wait for the corresponding signal to be de-asserted\n",
    "\n",
    "## Implementation\n",
    "\n",
    "You should now describe your *vending_machine_cpu* in Chisel. You can either do this in a new module or extend the top module in the bottom. You should keep the state machine and data path seperated. This makes it easier to work on and debug.\n",
    "\n",
    "It is very difficult to find errors in a state machine, it is suggested that you use the PeekPokeTester and generate a waveform for inspection.\n",
    "\n",
    "* Write the Chisel code according to the specifications\n",
    "* Write a test using the PeekPokeTester to drive the simulation\n",
    "* Simulate the circuit and inspect the generated waveform\n",
    "\n",
    "When this is done, you can connect everything in the top module. Generate the Verilog file, synthesize it in Vivado and upload to the Basys 3 FPGA-board. Try the solution and verify that it is working as expected and **show your design to a TA.**\n",
    "\n",
    "## Evaluation\n",
    "Assess the resource usage for the *vending_machine_cpu*. Check the resource usage reported by Xilinx Vivado. How many LUTs and FFs are used? Compare the RTL schematics with your hand designed data path. Is it as expected?"
   ]
  },
  {
   "cell_type": "code",
   "execution_count": null,
   "metadata": {},
   "outputs": [],
   "source": [
    "//For implementing the FSMD and PeekPokeTester\n",
    "class FSM extends Module {\n",
    "  val io = IO(new Bundle {\n",
    "    //Define any inputs/outputs needed\n",
    "  })\n",
    "    \n",
    "    \n",
    "  //Define the FSM and datapath\n",
    "\n",
    "}\n",
    "\n",
    "\n",
    "Driver.execute(Array(\"--generate-vcd-output\",\"on\", \"-tn\", \"FSM\",\"--target-dir\", \"generated\"),() => new FSM()) {\n",
    "  c => new PeekPokeTester(c) {\n",
    "      \n",
    "  }\n",
    "}"
   ]
  },
  {
   "cell_type": "markdown",
   "metadata": {},
   "source": [
    "<a id='extra'></a>\n",
    "# 4: Extra\n",
    "Now that you have a functional vending machine, you should extend the project to include an extra feature. The following are suggestions but you can come up with your own extensions. **The “standard solution” without any optional tasks is considered a “standard performance”. To obtain a top grade (i.e., 12) you are expected to do something optional.**\n",
    "\n",
    "* Display price and sum as decimal numbers making the machine less nerdy\n",
    "* Supplement the alarm by visual signal, for example blinking the sum display\n",
    "* Count coins and assert alarm if a coin compartment is full (>20 of given type ).\n",
    "* Implement a digital debouncer circuit. This will allow you to use the push buttons on the Basys 3 board itself (instead of the external Pmod BTN pushbutton module).\n",
    "* Include a can counter, that keeps track of how many cans are available\n",
    "    * When out of cans, display something on the 7-segment displays (Epty)\n",
    "    * Include a way of filling in more cans\n",
    "* Add more cans\n",
    "    * Different cans could have different prices and different storages\n",
    "    * With different price, you could add a way of updating the price\n",
    "    * You should be able to choose which can to use.\n",
    "    \n",
    "**REMEMBER to draw the circuit you want to make!**"
   ]
  },
  {
   "cell_type": "code",
   "execution_count": null,
   "metadata": {},
   "outputs": [],
   "source": [
    "//This cell can be used to define new modules\n",
    "//Otherwise, implement it directly in the top module.\n"
   ]
  },
  {
   "cell_type": "markdown",
   "metadata": {},
   "source": [
    "<a id='top'></a>\n",
    "# 5: Top Level Module\n",
    "\n",
    "All this does is describe a top module, from which you can bind inputs and outputs on the basys board, which is consistent with the XDC file given.\n",
    "\n",
    "In this file, you should instantiate the different modules you have made and connect them to the inputs and outputs. Add one step at a time and verify that it is working. [FAQ](https://github.com/schoeberl/chisel-intro-de2/blob/master/FAQ.md)"
   ]
  },
  {
   "cell_type": "code",
   "execution_count": null,
   "metadata": {
    "scrolled": true
   },
   "outputs": [],
   "source": [
    "/**\n",
    " * A top level to wire FPGA buttons, LEDs and 7-segment controllers\n",
    " * to the Basys3 board input and output.\n",
    " */\n",
    "class VendingMachineTop extends Module {\n",
    "  val io = IO(new Bundle {\n",
    "    val sw = Input(UInt(16.W)) //16 switches\n",
    "    val led = Output(UInt(16.W)) //16 LEDs\n",
    "      \n",
    "    val seg = Output(Bits(7.W))\n",
    "    val seg_an = Output(Bits(4.W))\n",
    "      \n",
    "    val up = Input(Bits(1.W)) //These 4 signals are meant for the 4 push-buttons (T18) \n",
    "    val down = Input(Bits(1.W)) //(U17)\n",
    "    val left = Input(Bits(1.W)) //(W19)\n",
    "    val right = Input(Bits(1.W)) //(T17)\n",
    "  })\n",
    "\n",
    "    \n",
    "  //Instantiate the SevenSegDecoder module\n",
    "    \n",
    "    \n",
    "    \n",
    "  //And other hardware as needed in the next steps\n",
    "    \n",
    "    \n",
    "  //And don't forget to connect the outputs\n",
    "  io.led := 42.U\n",
    "  io.seg := 42.U\n",
    "  io.seg_an := \"b0101\".U\n",
    "}\n",
    "\n",
    "\n",
    "// Generate a waveform based on inputs/outputs\n",
    "Driver.execute(Array(\"--generate-vcd-output\",\"on\", \"-tn\", \"VendingMachineTop\",\"--target-dir\", \"generated\"),() => new VendingMachineTop()) {\n",
    "  c => new PeekPokeTester(c) {\n",
    "      step(1)\n",
    "  }\n",
    "}\n",
    "\n",
    "// Generate the Verilog code by invoking the Driver\n",
    "val result = (chisel3.Driver.execute(Array(\"--target-dir\", \"generated\", \"-tn\", \"vending_machine\"), \n",
    "                                     () => new VendingMachineTop()))"
   ]
  },
  {
   "cell_type": "markdown",
   "metadata": {},
   "source": [
    "## Using Vivado\n",
    "You now have the file generated in the *generated* folder. Now, follow the [Vivado guide](Vivado/install.ipynb) to make it run"
   ]
  }
 ],
 "metadata": {
  "kernelspec": {
   "display_name": "Scala",
   "language": "scala",
   "name": "scala"
  },
  "language_info": {
   "codemirror_mode": "text/x-scala",
   "file_extension": ".scala",
   "mimetype": "text/x-scala",
   "name": "scala",
   "nbconvert_exporter": "script",
   "version": "2.12.8"
  }
 },
 "nbformat": 4,
 "nbformat_minor": 2
}
