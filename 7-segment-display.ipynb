{
 "cells": [
  {
   "cell_type": "markdown",
   "metadata": {},
   "source": [
    "# Driving the 7-segment display\n",
    "\n",
    "In this notebook, you will learn how to drive the 7-segment display. In order to do this, you will use counters, multiplexers and an input to the display. You will also use a look up table, which converts from the binary value into the 7-segment representation.\n",
    "\n",
    "\n",
    "\n",
    "# Setting up the environment\n",
    "First, we run the following line to set up the environment. This is for Scala to download the dependencies for Chisel. This is the same as using a build.sbt file, just set up for these notebooks. This will be the first thing called in the notebooks."
   ]
  },
  {
   "cell_type": "code",
   "execution_count": 1,
   "metadata": {},
   "outputs": [
    {
     "name": "stdout",
     "output_type": "stream",
     "text": [
      "Compiling /home/simon/DTU/digi2/chisel-intro-de2/Main.sc"
     ]
    },
    {
     "name": "stderr",
     "output_type": "stream",
     "text": [
      "Downloading https://repo1.maven.org/maven2/edu/berkeley/cs/chisel3_2.12/3.2-SNAPSHOT/chisel3_2.12-3.2-SNAPSHOT.pom.sha1\n",
      "Downloading https://repo1.maven.org/maven2/edu/berkeley/cs/chisel3_2.12/3.2-SNAPSHOT/chisel3_2.12-3.2-SNAPSHOT.pom\n",
      "Downloading https://repo1.maven.org/maven2/edu/berkeley/cs/chisel3_2.12/3.2-SNAPSHOT/maven-metadata.xml\n",
      "Downloading https://repo1.maven.org/maven2/edu/berkeley/cs/chisel3_2.12/3.2-SNAPSHOT/maven-metadata.xml.sha1\n",
      "Downloading https://repo1.maven.org/maven2/edu/berkeley/cs/firrtl_2.12/1.2-SNAPSHOT/firrtl_2.12-1.2-SNAPSHOT.pom\n",
      "Downloading https://repo1.maven.org/maven2/edu/berkeley/cs/firrtl_2.12/1.2-SNAPSHOT/firrtl_2.12-1.2-SNAPSHOT.pom.sha1\n",
      "Downloading https://repo1.maven.org/maven2/edu/berkeley/cs/firrtl_2.12/1.2-SNAPSHOT/maven-metadata.xml\n",
      "Downloading https://repo1.maven.org/maven2/edu/berkeley/cs/firrtl_2.12/1.2-SNAPSHOT/maven-metadata.xml.sha1\n",
      "Downloading https://repo1.maven.org/maven2/edu/berkeley/cs/chisel-iotesters_2.12/1.3-SNAPSHOT/chisel-iotesters_2.12-1.3-SNAPSHOT.pom\n",
      "Downloading https://repo1.maven.org/maven2/edu/berkeley/cs/chisel-iotesters_2.12/1.3-SNAPSHOT/chisel-iotesters_2.12-1.3-SNAPSHOT.pom.sha1\n",
      "Downloading https://repo1.maven.org/maven2/edu/berkeley/cs/chisel-iotesters_2.12/1.3-SNAPSHOT/maven-metadata.xml\n",
      "Downloading https://repo1.maven.org/maven2/edu/berkeley/cs/chisel-iotesters_2.12/1.3-SNAPSHOT/maven-metadata.xml.sha1\n",
      "Downloading https://repo1.maven.org/maven2/edu/berkeley/cs/firrtl-interpreter_2.12/1.2-SNAPSHOT/firrtl-interpreter_2.12-1.2-SNAPSHOT.pom.sha1\n",
      "Downloading https://repo1.maven.org/maven2/edu/berkeley/cs/firrtl-interpreter_2.12/1.2-SNAPSHOT/firrtl-interpreter_2.12-1.2-SNAPSHOT.pom\n",
      "Downloading https://repo1.maven.org/maven2/edu/berkeley/cs/chisel3_2.12/3.2-SNAPSHOT/chisel3_2.12-3.2-SNAPSHOT.pom\n",
      "Downloading https://repo1.maven.org/maven2/edu/berkeley/cs/firrtl_2.12/1.2-SNAPSHOT/firrtl_2.12-1.2-SNAPSHOT.pom.sha1\n",
      "Downloading https://repo1.maven.org/maven2/edu/berkeley/cs/chisel3_2.12/3.2-SNAPSHOT/chisel3_2.12-3.2-SNAPSHOT.pom.sha1\n",
      "Downloading https://repo1.maven.org/maven2/edu/berkeley/cs/firrtl_2.12/1.2-SNAPSHOT/firrtl_2.12-1.2-SNAPSHOT.pom\n",
      "Downloading https://repo1.maven.org/maven2/edu/berkeley/cs/treadle_2.12/1.1-SNAPSHOT/treadle_2.12-1.1-SNAPSHOT.pom.sha1\n",
      "Downloading https://repo1.maven.org/maven2/edu/berkeley/cs/treadle_2.12/1.1-SNAPSHOT/treadle_2.12-1.1-SNAPSHOT.pom\n",
      "Downloading https://repo1.maven.org/maven2/edu/berkeley/cs/firrtl-interpreter_2.12/1.2-SNAPSHOT/maven-metadata.xml\n",
      "Downloading https://repo1.maven.org/maven2/edu/berkeley/cs/firrtl-interpreter_2.12/1.2-SNAPSHOT/maven-metadata.xml.sha1\n",
      "Downloading https://repo1.maven.org/maven2/edu/berkeley/cs/chisel3_2.12/3.2-SNAPSHOT/maven-metadata.xml\n",
      "Downloading https://repo1.maven.org/maven2/edu/berkeley/cs/chisel3_2.12/3.2-SNAPSHOT/maven-metadata.xml.sha1\n",
      "Downloading https://repo1.maven.org/maven2/edu/berkeley/cs/firrtl_2.12/1.2-SNAPSHOT/maven-metadata.xml\n",
      "Downloading https://repo1.maven.org/maven2/edu/berkeley/cs/firrtl_2.12/1.2-SNAPSHOT/maven-metadata.xml.sha1\n",
      "Downloading https://repo1.maven.org/maven2/edu/berkeley/cs/treadle_2.12/1.1-SNAPSHOT/maven-metadata.xml\n",
      "Downloading https://repo1.maven.org/maven2/edu/berkeley/cs/treadle_2.12/1.1-SNAPSHOT/maven-metadata.xml.sha1\n",
      "Downloading https://repo1.maven.org/maven2/edu/berkeley/cs/chisel-testers2_2.12/0.1-SNAPSHOT/chisel-testers2_2.12-0.1-SNAPSHOT.pom\n",
      "Downloading https://repo1.maven.org/maven2/edu/berkeley/cs/chisel-testers2_2.12/0.1-SNAPSHOT/chisel-testers2_2.12-0.1-SNAPSHOT.pom.sha1\n",
      "Downloading https://repo1.maven.org/maven2/edu/berkeley/cs/chisel-testers2_2.12/0.1-SNAPSHOT/maven-metadata.xml\n",
      "Downloading https://repo1.maven.org/maven2/edu/berkeley/cs/chisel-testers2_2.12/0.1-SNAPSHOT/maven-metadata.xml.sha1\n",
      "Downloading https://repo1.maven.org/maven2/edu/berkeley/cs/chisel3_2.12/3.2-SNAPSHOT/chisel3_2.12-3.2-SNAPSHOT.pom\n",
      "Downloading https://repo1.maven.org/maven2/edu/berkeley/cs/treadle_2.12/1.1-SNAPSHOT/treadle_2.12-1.1-SNAPSHOT.pom\n",
      "Downloading https://repo1.maven.org/maven2/edu/berkeley/cs/treadle_2.12/1.1-SNAPSHOT/treadle_2.12-1.1-SNAPSHOT.pom.sha1\n",
      "Downloading https://repo1.maven.org/maven2/edu/berkeley/cs/chisel3_2.12/3.2-SNAPSHOT/chisel3_2.12-3.2-SNAPSHOT.pom.sha1\n",
      "Downloading https://repo1.maven.org/maven2/edu/berkeley/cs/treadle_2.12/1.1-SNAPSHOT/maven-metadata.xml\n",
      "Downloading https://repo1.maven.org/maven2/edu/berkeley/cs/treadle_2.12/1.1-SNAPSHOT/maven-metadata.xml.sha1\n",
      "Downloading https://repo1.maven.org/maven2/edu/berkeley/cs/chisel3_2.12/3.2-SNAPSHOT/maven-metadata.xml\n",
      "Downloading https://repo1.maven.org/maven2/edu/berkeley/cs/chisel3_2.12/3.2-SNAPSHOT/maven-metadata.xml.sha1\n",
      "Downloading https://repo1.maven.org/maven2/edu/berkeley/cs/firrtl_2.12/1.2-SNAPSHOT/firrtl_2.12-1.2-SNAPSHOT.pom\n",
      "Downloading https://repo1.maven.org/maven2/edu/berkeley/cs/firrtl_2.12/1.2-SNAPSHOT/firrtl_2.12-1.2-SNAPSHOT.pom.sha1\n",
      "Downloading https://repo1.maven.org/maven2/edu/berkeley/cs/firrtl_2.12/1.2-SNAPSHOT/maven-metadata.xml.sha1\n",
      "Downloading https://repo1.maven.org/maven2/edu/berkeley/cs/firrtl_2.12/1.2-SNAPSHOT/maven-metadata.xml\n",
      "Downloading https://repo1.maven.org/maven2/net/sourceforge/f2j/arpack_combined_all/0.1/arpack_combined_all-0.1-sources.jar.sha1\n",
      "Downloading https://repo1.maven.org/maven2/net/sourceforge/f2j/arpack_combined_all/0.1/arpack_combined_all-0.1-sources.jar\n",
      "Downloading https://repo1.maven.org/maven2/net/sourceforge/f2j/arpack_combined_all/0.1/arpack_combined_all-0.1-sources.jar\n",
      "Downloading https://repo1.maven.org/maven2/net/sourceforge/f2j/arpack_combined_all/0.1/arpack_combined_all-0.1-sources.jar.sha1\n",
      "Downloading https://repo1.maven.org/maven2/edu/berkeley/cs/rocket-dsptools_2.12/1.2-020719-SNAPSHOT/rocket-dsptools_2.12-1.2-020719-SNAPSHOT.pom\n",
      "Downloading https://repo1.maven.org/maven2/edu/berkeley/cs/rocket-dsptools_2.12/1.2-020719-SNAPSHOT/rocket-dsptools_2.12-1.2-020719-SNAPSHOT.pom.sha1\n",
      "Downloading https://repo1.maven.org/maven2/edu/berkeley/cs/rocket-dsptools_2.12/1.2-020719-SNAPSHOT/maven-metadata.xml.sha1\n",
      "Downloading https://repo1.maven.org/maven2/edu/berkeley/cs/rocket-dsptools_2.12/1.2-020719-SNAPSHOT/maven-metadata.xml\n",
      "Downloading https://repo1.maven.org/maven2/edu/berkeley/cs/dsptools_2.12/1.2-020719-SNAPSHOT/dsptools_2.12-1.2-020719-SNAPSHOT.pom\n",
      "Downloading https://repo1.maven.org/maven2/edu/berkeley/cs/chisel-iotesters_2.12/1.3-020719-SNAPSHOT/chisel-iotesters_2.12-1.3-020719-SNAPSHOT.pom\n",
      "Downloading https://repo1.maven.org/maven2/edu/berkeley/cs/rocketchip_2.12/1.2-020719-SNAPSHOT/rocketchip_2.12-1.2-020719-SNAPSHOT.pom\n",
      "Downloading https://repo1.maven.org/maven2/edu/berkeley/cs/chisel3_2.12/3.2-020719-SNAPSHOT/chisel3_2.12-3.2-020719-SNAPSHOT.pom.sha1\n",
      "Downloading https://repo1.maven.org/maven2/edu/berkeley/cs/chisel3_2.12/3.2-020719-SNAPSHOT/chisel3_2.12-3.2-020719-SNAPSHOT.pom\n",
      "Downloading https://repo1.maven.org/maven2/edu/berkeley/cs/dsptools_2.12/1.2-020719-SNAPSHOT/dsptools_2.12-1.2-020719-SNAPSHOT.pom.sha1\n",
      "Downloading https://repo1.maven.org/maven2/edu/berkeley/cs/chisel-iotesters_2.12/1.3-020719-SNAPSHOT/chisel-iotesters_2.12-1.3-020719-SNAPSHOT.pom.sha1\n",
      "Downloading https://repo1.maven.org/maven2/edu/berkeley/cs/rocketchip_2.12/1.2-020719-SNAPSHOT/rocketchip_2.12-1.2-020719-SNAPSHOT.pom.sha1\n",
      "Downloading https://repo1.maven.org/maven2/edu/berkeley/cs/chisel3_2.12/3.2-020719-SNAPSHOT/maven-metadata.xml\n",
      "Downloading https://repo1.maven.org/maven2/edu/berkeley/cs/chisel3_2.12/3.2-020719-SNAPSHOT/maven-metadata.xml.sha1\n",
      "Downloading https://repo1.maven.org/maven2/edu/berkeley/cs/rocketchip_2.12/1.2-020719-SNAPSHOT/maven-metadata.xml\n",
      "Downloading https://repo1.maven.org/maven2/edu/berkeley/cs/rocketchip_2.12/1.2-020719-SNAPSHOT/maven-metadata.xml.sha1\n",
      "Downloading https://repo1.maven.org/maven2/edu/berkeley/cs/chisel-iotesters_2.12/1.3-020719-SNAPSHOT/maven-metadata.xml\n",
      "Downloading https://repo1.maven.org/maven2/edu/berkeley/cs/chisel-iotesters_2.12/1.3-020719-SNAPSHOT/maven-metadata.xml.sha1\n",
      "Downloading https://repo1.maven.org/maven2/edu/berkeley/cs/dsptools_2.12/1.2-020719-SNAPSHOT/maven-metadata.xml.sha1\n",
      "Downloading https://repo1.maven.org/maven2/edu/berkeley/cs/dsptools_2.12/1.2-020719-SNAPSHOT/maven-metadata.xml\n",
      "Downloading https://repo1.maven.org/maven2/edu/berkeley/cs/firrtl-interpreter_2.12/1.2-020719-SNAPSHOT/firrtl-interpreter_2.12-1.2-020719-SNAPSHOT.pom\n"
     ]
    },
    {
     "name": "stderr",
     "output_type": "stream",
     "text": [
      "Downloading https://repo1.maven.org/maven2/edu/berkeley/cs/firrtl-interpreter_2.12/1.2-020719-SNAPSHOT/firrtl-interpreter_2.12-1.2-020719-SNAPSHOT.pom.sha1\n",
      "Downloading https://repo1.maven.org/maven2/edu/berkeley/cs/rocket-macros_2.12/1.2-020719-SNAPSHOT/rocket-macros_2.12-1.2-020719-SNAPSHOT.pom\n",
      "Downloading https://repo1.maven.org/maven2/edu/berkeley/cs/rocket-macros_2.12/1.2-020719-SNAPSHOT/rocket-macros_2.12-1.2-020719-SNAPSHOT.pom.sha1\n",
      "Downloading https://repo1.maven.org/maven2/edu/berkeley/cs/hardfloat_2.12/1.2-020719-SNAPSHOT/hardfloat_2.12-1.2-020719-SNAPSHOT.pom\n",
      "Downloading https://repo1.maven.org/maven2/edu/berkeley/cs/hardfloat_2.12/1.2-020719-SNAPSHOT/hardfloat_2.12-1.2-020719-SNAPSHOT.pom.sha1\n",
      "Downloading https://repo1.maven.org/maven2/edu/berkeley/cs/firrtl_2.12/1.2-020719-SNAPSHOT/firrtl_2.12-1.2-020719-SNAPSHOT.pom\n",
      "Downloading https://repo1.maven.org/maven2/edu/berkeley/cs/firrtl_2.12/1.2-020719-SNAPSHOT/firrtl_2.12-1.2-020719-SNAPSHOT.pom.sha1\n",
      "Downloading https://repo1.maven.org/maven2/edu/berkeley/cs/treadle_2.12/1.1-020719-SNAPSHOT/treadle_2.12-1.1-020719-SNAPSHOT.pom\n",
      "Downloading https://repo1.maven.org/maven2/edu/berkeley/cs/treadle_2.12/1.1-020719-SNAPSHOT/treadle_2.12-1.1-020719-SNAPSHOT.pom.sha1\n",
      "Downloading https://repo1.maven.org/maven2/edu/berkeley/cs/firrtl-interpreter_2.12/1.2-020719-SNAPSHOT/maven-metadata.xml\n",
      "Downloading https://repo1.maven.org/maven2/edu/berkeley/cs/firrtl-interpreter_2.12/1.2-020719-SNAPSHOT/maven-metadata.xml.sha1\n",
      "Downloading https://repo1.maven.org/maven2/edu/berkeley/cs/firrtl_2.12/1.2-020719-SNAPSHOT/maven-metadata.xml\n",
      "Downloading https://repo1.maven.org/maven2/edu/berkeley/cs/rocket-macros_2.12/1.2-020719-SNAPSHOT/maven-metadata.xml\n",
      "Downloading https://repo1.maven.org/maven2/edu/berkeley/cs/rocket-macros_2.12/1.2-020719-SNAPSHOT/maven-metadata.xml.sha1\n",
      "Downloading https://repo1.maven.org/maven2/edu/berkeley/cs/firrtl_2.12/1.2-020719-SNAPSHOT/maven-metadata.xml.sha1\n",
      "Downloading https://repo1.maven.org/maven2/edu/berkeley/cs/treadle_2.12/1.1-020719-SNAPSHOT/maven-metadata.xml\n",
      "Downloading https://repo1.maven.org/maven2/edu/berkeley/cs/treadle_2.12/1.1-020719-SNAPSHOT/maven-metadata.xml.sha1\n",
      "Downloading https://repo1.maven.org/maven2/edu/berkeley/cs/hardfloat_2.12/1.2-020719-SNAPSHOT/maven-metadata.xml.sha1\n",
      "Downloading https://repo1.maven.org/maven2/edu/berkeley/cs/hardfloat_2.12/1.2-020719-SNAPSHOT/maven-metadata.xml\n",
      "Downloading https://repo1.maven.org/maven2/net/sourceforge/f2j/arpack_combined_all/0.1/arpack_combined_all-0.1-sources.jar\n",
      "Downloading https://repo1.maven.org/maven2/net/sourceforge/f2j/arpack_combined_all/0.1/arpack_combined_all-0.1-sources.jar.sha1\n"
     ]
    },
    {
     "name": "stdout",
     "output_type": "stream",
     "text": [
      "Compiling /home/simon/DTU/digi2/chisel-intro-de2/Main.sc #2"
     ]
    },
    {
     "data": {
      "text/plain": [
       "\u001b[36mpath\u001b[39m: \u001b[32mString\u001b[39m = \u001b[32m\"/home/simon/DTU/digi2/chisel-intro-de2/source/load-ivy.sc\"\u001b[39m"
      ]
     },
     "execution_count": 1,
     "metadata": {},
     "output_type": "execute_result"
    }
   ],
   "source": [
    "val path = System.getProperty(\"user.dir\") + \"/source/load-ivy.sc\"\n",
    "interp.load.module(ammonite.ops.Path(java.nio.file.FileSystems.getDefault().getPath(path)))"
   ]
  },
  {
   "cell_type": "markdown",
   "metadata": {},
   "source": [
    "Import the Chisel modules"
   ]
  },
  {
   "cell_type": "code",
   "execution_count": 2,
   "metadata": {},
   "outputs": [
    {
     "data": {
      "text/plain": [
       "\u001b[32mimport \u001b[39m\u001b[36mchisel3._\n",
       "\u001b[39m\n",
       "\u001b[32mimport \u001b[39m\u001b[36mchisel3.util._\n",
       "\u001b[39m\n",
       "\u001b[32mimport \u001b[39m\u001b[36mchisel3.iotesters.{ChiselFlatSpec, Driver, PeekPokeTester}\u001b[39m"
      ]
     },
     "execution_count": 2,
     "metadata": {},
     "output_type": "execute_result"
    }
   ],
   "source": [
    "import chisel3._\n",
    "import chisel3.util._\n",
    "import chisel3.iotesters.{ChiselFlatSpec, Driver, PeekPokeTester}"
   ]
  },
  {
   "cell_type": "markdown",
   "metadata": {},
   "source": [
    "# Binary to 7-segment decoder\n",
    "\n",
    "The first part is to make a 7-segment decoder, which takes a four bit binary value (0-15) and displays them on a 7-segment display on the basys board.\n",
    "\n",
    "\n",
    "![Image of 7 segment display](images/7segment.png \"https://en.wikipedia.org/wiki/Seven-segment_display#/media/File:7_Segment_Display_with_Labeled_Segments.svg\")\n",
    "\n",
    "\n",
    "To show a 0, we would turn on all segments, except G (and the decimal point, DP).\n",
    "\n",
    "Complete the following table, indicating what segments should be lit when showing which number:"
   ]
  },
  {
   "cell_type": "raw",
   "metadata": {},
   "source": [
    "╔════╦═══╦═══╦═══╦═══╦═══╦═══╦═══╗\n",
    "║    ║ A ║ B ║ C ║ D ║ E ║ F ║ G ║\n",
    "╠════╬═══╬═══╬═══╬═══╬═══╬═══╬═══╣\n",
    "║ 0  ║ 1 ║ 1 ║ 1 ║ 1 ║ 1 ║ 1 ║ 0 ║\n",
    "╠════╬═══╬═══╬═══╬═══╬═══╬═══╬═══╣\n",
    "║ 1  ║   ║   ║   ║   ║   ║   ║   ║\n",
    "╠════╬═══╬═══╬═══╬═══╬═══╬═══╬═══╣\n",
    "║ 2  ║   ║   ║   ║   ║   ║   ║   ║\n",
    "╠════╬═══╬═══╬═══╬═══╬═══╬═══╬═══╣\n",
    "║ 3  ║   ║   ║   ║   ║   ║   ║   ║\n",
    "╠════╬═══╬═══╬═══╬═══╬═══╬═══╬═══╣\n",
    "║ 4  ║   ║   ║   ║   ║   ║   ║   ║\n",
    "╠════╬═══╬═══╬═══╬═══╬═══╬═══╬═══╣\n",
    "║ 5  ║   ║   ║   ║   ║   ║   ║   ║\n",
    "╠════╬═══╬═══╬═══╬═══╬═══╬═══╬═══╣\n",
    "║ 6  ║   ║   ║   ║   ║   ║   ║   ║\n",
    "╠════╬═══╬═══╬═══╬═══╬═══╬═══╬═══╣\n",
    "║ 7  ║   ║   ║   ║   ║   ║   ║   ║\n",
    "╠════╬═══╬═══╬═══╬═══╬═══╬═══╬═══╣\n",
    "║ 8  ║   ║   ║   ║   ║   ║   ║   ║\n",
    "╠════╬═══╬═══╬═══╬═══╬═══╬═══╬═══╣\n",
    "║ 9  ║   ║   ║   ║   ║   ║   ║   ║\n",
    "╠════╬═══╬═══╬═══╬═══╬═══╬═══╬═══╣\n",
    "║ 10 ║   ║   ║   ║   ║   ║   ║   ║\n",
    "╠════╬═══╬═══╬═══╬═══╬═══╬═══╬═══╣\n",
    "║ 11 ║   ║   ║   ║   ║   ║   ║   ║\n",
    "╠════╬═══╬═══╬═══╬═══╬═══╬═══╬═══╣\n",
    "║ 12 ║   ║   ║   ║   ║   ║   ║   ║\n",
    "╠════╬═══╬═══╬═══╬═══╬═══╬═══╬═══╣\n",
    "║ 13 ║   ║   ║   ║   ║   ║   ║   ║\n",
    "╠════╬═══╬═══╬═══╬═══╬═══╬═══╬═══╣\n",
    "║ 14 ║   ║   ║   ║   ║   ║   ║   ║\n",
    "╠════╬═══╬═══╬═══╬═══╬═══╬═══╬═══╣\n",
    "║ 15 ║   ║   ║   ║   ║   ║   ║   ║\n",
    "╚════╩═══╩═══╩═══╩═══╩═══╩═══╩═══╝"
   ]
  },
  {
   "cell_type": "markdown",
   "metadata": {},
   "source": [
    "You now have what looks an awful lot like a truth table for several outputs.\n",
    "\n",
    "The next point is to define the decoder. We have given you the module definition. You need to fill out the code to generate the look up table. Remember to connect the output."
   ]
  },
  {
   "cell_type": "code",
   "execution_count": 3,
   "metadata": {},
   "outputs": [
    {
     "data": {
      "text/plain": [
       "defined \u001b[32mclass\u001b[39m \u001b[36mSevenSegDecoder\u001b[39m"
      ]
     },
     "execution_count": 3,
     "metadata": {},
     "output_type": "execute_result"
    }
   ],
   "source": [
    "class SevenSegDecoder() extends Module {\n",
    "    \n",
    "    val io = IO(new Bundle {\n",
    "        val in = Input(UInt(4.W))\n",
    "        val out = Output(Bits(7.W))\n",
    "    })\n",
    "    \n",
    "    \n",
    "    //Make an output wire\n",
    "    \n",
    "    \n",
    "    //Connect this wire to different values, depending on the input\n",
    "    \n",
    "    \n",
    "    //Don't forget to connect the output of the module\n",
    "    io.out := \"b1010101\".U\n",
    "}"
   ]
  },
  {
   "cell_type": "markdown",
   "metadata": {},
   "source": [
    "## Testing the output\n",
    "\n",
    "Below we have made a PeekPokeTester for you. This example takes a module called SevenSegDecoder and applies the binary values from 0 to 15. This is done using the poke method. The function, print7Segment may seem daunting, but you do not have to know how it works. What it does is simply to print 4 lines, the first being the hexadecimal representation and the next three lines are printing either \"_\" or \"|\" depending on whether the bit for these are turned on.\n",
    "\n",
    "For the number 8, you would expect to see\n",
    "<pre>\n",
    " _\n",
    "|_|\n",
    "|_|\n",
    "\n",
    "</pre>"
   ]
  },
  {
   "cell_type": "code",
   "execution_count": 4,
   "metadata": {
    "scrolled": true
   },
   "outputs": [
    {
     "name": "stdout",
     "output_type": "stream",
     "text": [
      "[\u001b[35minfo\u001b[0m] [0.002] Elaborating design...\n",
      "[\u001b[35minfo\u001b[0m] [0.999] Done elaborating.\n",
      "Total FIRRTL Compile Time: 497.6 ms\n",
      "file loaded in 0.064158885 seconds, 5 symbols, 2 statements\n",
      "[\u001b[35minfo\u001b[0m] [0.002] SEED 1571822975234\n",
      "[\u001b[35minfo\u001b[0m] [0.005] 1010101\n",
      "0\n",
      " _\n",
      " _ \n",
      "| |\n",
      "\n",
      "[\u001b[35minfo\u001b[0m] [0.008] 1010101\n",
      "1\n",
      " _\n",
      " _ \n",
      "| |\n",
      "\n",
      "[\u001b[35minfo\u001b[0m] [0.010] 1010101\n",
      "2\n",
      " _\n",
      " _ \n",
      "| |\n",
      "\n",
      "[\u001b[35minfo\u001b[0m] [0.016] 1010101\n",
      "3\n",
      " _\n",
      " _ \n",
      "| |\n",
      "\n",
      "[\u001b[35minfo\u001b[0m] [0.088] 1010101\n",
      "4\n",
      " _\n",
      " _ \n",
      "| |\n",
      "\n",
      "[\u001b[35minfo\u001b[0m] [0.142] 1010101\n",
      "5\n",
      " _\n",
      " _ \n",
      "| |\n",
      "\n",
      "[\u001b[35minfo\u001b[0m] [0.185] 1010101\n",
      "6\n",
      " _\n",
      " _ \n",
      "| |\n",
      "\n",
      "[\u001b[35minfo\u001b[0m] [0.227] 1010101\n",
      "7\n",
      " _\n",
      " _ \n",
      "| |\n",
      "\n",
      "[\u001b[35minfo\u001b[0m] [0.262] 1010101\n",
      "8\n",
      " _\n",
      " _ \n",
      "| |\n",
      "\n",
      "[\u001b[35minfo\u001b[0m] [0.297] 1010101\n",
      "9\n",
      " _\n",
      " _ \n",
      "| |\n",
      "\n",
      "[\u001b[35minfo\u001b[0m] [0.351] 1010101\n",
      "a\n",
      " _\n",
      " _ \n",
      "| |\n",
      "\n",
      "[\u001b[35minfo\u001b[0m] [0.377] 1010101\n",
      "b\n",
      " _\n",
      " _ \n",
      "| |\n",
      "\n",
      "[\u001b[35minfo\u001b[0m] [0.414] 1010101\n",
      "c\n",
      " _\n",
      " _ \n",
      "| |\n",
      "\n",
      "[\u001b[35minfo\u001b[0m] [0.442] 1010101\n",
      "d\n",
      " _\n",
      " _ \n",
      "| |\n",
      "\n",
      "[\u001b[35minfo\u001b[0m] [0.482] 1010101\n",
      "e\n",
      " _\n",
      " _ \n",
      "| |\n",
      "\n",
      "[\u001b[35minfo\u001b[0m] [0.506] 1010101\n",
      "f\n",
      " _\n",
      " _ \n",
      "| |\n",
      "\n",
      "test cmd2HelperSevenSegDecoder Success: 0 tests passed in 5 cycles in 0.539118 seconds 9.27 Hz\n",
      "[\u001b[35minfo\u001b[0m] [0.529] RAN 0 CYCLES PASSED\n"
     ]
    },
    {
     "data": {
      "text/plain": [
       "defined \u001b[32mfunction\u001b[39m \u001b[36mprint7Segment\u001b[39m\n",
       "\u001b[36mres3_1\u001b[39m: \u001b[32mBoolean\u001b[39m = true"
      ]
     },
     "execution_count": 4,
     "metadata": {},
     "output_type": "execute_result"
    }
   ],
   "source": [
    "def print7Segment(x:BigInt,y: Int){\n",
    "    println(y.toHexString)                       //Print the hexadecimal value\n",
    "    println(if ((x & 0x40) != 0) \" _\"  else \" \") //Print top \"_\"\n",
    "    print(if((x & 0x2) != 0) \"|\" else \" \")       //Print top left \"|\"\n",
    "    print(if((x & 0x1) != 0) \"_\" else \" \")       //Print middle \"_\"\n",
    "    println(if((x & 0x20) != 0) \"|\" else \" \")    //Print top right \"|\"\n",
    "    print(if((x & 0x4) != 0) \"|\" else \" \")       //Print lower left \"|\"\n",
    "    print(if((x & 0x8) != 0) \"_\" else \" \")       //Print lower \"_\"\n",
    "    println(if((x & 0x10) != 0) \"|\" else \" \")    //Print lower right \"|\"\n",
    "    println()                                    //Print empty line\n",
    "}\n",
    "\n",
    "Driver.execute(Array(),() => new SevenSegDecoder()) {\n",
    "  c => new PeekPokeTester(c) {\n",
    "      \n",
    "    for (value <- 0 until 16) {\n",
    "        poke(c.io.in, value) //We apply a value to the input\n",
    "        println(peek(c.io.out).toString(2).reverse.padTo(7,'0').reverse) //And check the value on the output.\n",
    "        print7Segment(peek(c.io.out),value) //Here we print the result, as it would look on the 7-segment display.\n",
    "    }\n",
    "  }\n",
    "}\n",
    "\n"
   ]
  },
  {
   "cell_type": "markdown",
   "metadata": {},
   "source": [
    "# Implement onto the Basys board\n",
    "We can now test out the 7-segment display on the board, to verify that everything works as expected. At the bottom of this document, you will find a top module for the vending machine. Read the description and add your seven segment decoder to this, have the Verilog generated, implement it using Vivado and verify that it works as expected.\n",
    "\n",
    "Use the switches to drive the decoder and output the decoder to the segments.\n",
    "\n",
    "Did the output look as expected when counting on the switches?"
   ]
  },
  {
   "cell_type": "markdown",
   "metadata": {},
   "source": [
    "# Counting\n",
    "\n",
    "The next goal is to make a counter for the 7-segment display, so we do not have to set the switches. There are two goals in this.\n",
    "* We need to count from 0 to 16 (2^4)\n",
    "* We need to increment with a frequency of i.e. 1 Hz\n",
    "\n",
    "\n",
    "## Tick based counter\n",
    "When doing a counter, we would like it to count at a reasonable frequency, such as once a second. Implement a counter class which outputs a 4 bit counter at a reasonable rate. If in doubt, refer to [Digital Design with Chisel, Chapter 6, section 2](https://github.com/schoeberl/chisel-book/wiki/chisel-book.pdf).\n",
    "\n",
    "**Hint** You need to have a counter that generates the tick for the other counter."
   ]
  },
  {
   "cell_type": "code",
   "execution_count": 5,
   "metadata": {},
   "outputs": [
    {
     "data": {
      "text/plain": [
       "defined \u001b[32mclass\u001b[39m \u001b[36mCounter\u001b[39m"
      ]
     },
     "execution_count": 5,
     "metadata": {},
     "output_type": "execute_result"
    }
   ],
   "source": [
    "class Counter() extends Module {\n",
    "    val io = IO(new Bundle {\n",
    "        val out = Output(UInt(4.W)) //The counter has 4 bits of output.\n",
    "    })\n",
    "    \n",
    "    \n",
    "    //Describe the counter\n",
    "    \n",
    "    \n",
    "    //And don't forget to connect the output\n",
    "    io.out := 0.U\n",
    "}\n"
   ]
  },
  {
   "cell_type": "markdown",
   "metadata": {},
   "source": [
    "You may want to test that your counter actually counts as expected. Try and generate a counter which counts up every tenth cycle. You can then use the below tester to verify the result (Running 100,000,000 cycles to check that it changes every second is quite slow). You would expect that the same number is shown 10 times and is then incremented once."
   ]
  },
  {
   "cell_type": "code",
   "execution_count": 6,
   "metadata": {
    "scrolled": true
   },
   "outputs": [
    {
     "name": "stdout",
     "output_type": "stream",
     "text": [
      "[\u001b[35minfo\u001b[0m] [0.000] Elaborating design...\n",
      "[\u001b[35minfo\u001b[0m] [0.008] Done elaborating.\n",
      "Total FIRRTL Compile Time: 35.1 ms\n",
      "file loaded in 7.29368E-4 seconds, 4 symbols, 2 statements\n",
      "[\u001b[35minfo\u001b[0m] [0.000] SEED 1571822979131\n",
      "[\u001b[35minfo\u001b[0m] [0.003] 0\n",
      "[\u001b[35minfo\u001b[0m] [0.003] 0\n",
      "[\u001b[35minfo\u001b[0m] [0.004] 0\n",
      "[\u001b[35minfo\u001b[0m] [0.004] 0\n",
      "[\u001b[35minfo\u001b[0m] [0.005] 0\n",
      "[\u001b[35minfo\u001b[0m] [0.005] 0\n",
      "[\u001b[35minfo\u001b[0m] [0.005] 0\n",
      "[\u001b[35minfo\u001b[0m] [0.006] 0\n",
      "[\u001b[35minfo\u001b[0m] [0.006] 0\n",
      "[\u001b[35minfo\u001b[0m] [0.006] 0\n",
      "[\u001b[35minfo\u001b[0m] [0.007] 0\n",
      "[\u001b[35minfo\u001b[0m] [0.007] 0\n",
      "[\u001b[35minfo\u001b[0m] [0.008] 0\n",
      "[\u001b[35minfo\u001b[0m] [0.008] 0\n",
      "[\u001b[35minfo\u001b[0m] [0.009] 0\n",
      "[\u001b[35minfo\u001b[0m] [0.009] 0\n",
      "[\u001b[35minfo\u001b[0m] [0.009] 0\n",
      "[\u001b[35minfo\u001b[0m] [0.010] 0\n",
      "[\u001b[35minfo\u001b[0m] [0.010] 0\n",
      "[\u001b[35minfo\u001b[0m] [0.018] 0\n",
      "[\u001b[35minfo\u001b[0m] [0.018] 0\n",
      "[\u001b[35minfo\u001b[0m] [0.019] 0\n",
      "[\u001b[35minfo\u001b[0m] [0.020] 0\n",
      "[\u001b[35minfo\u001b[0m] [0.020] 0\n",
      "[\u001b[35minfo\u001b[0m] [0.020] 0\n",
      "[\u001b[35minfo\u001b[0m] [0.021] 0\n",
      "[\u001b[35minfo\u001b[0m] [0.021] 0\n",
      "[\u001b[35minfo\u001b[0m] [0.024] 0\n",
      "[\u001b[35minfo\u001b[0m] [0.027] 0\n",
      "[\u001b[35minfo\u001b[0m] [0.030] 0\n",
      "[\u001b[35minfo\u001b[0m] [0.034] 0\n",
      "[\u001b[35minfo\u001b[0m] [0.036] 0\n",
      "[\u001b[35minfo\u001b[0m] [0.039] 0\n",
      "[\u001b[35minfo\u001b[0m] [0.047] 0\n",
      "[\u001b[35minfo\u001b[0m] [0.051] 0\n",
      "[\u001b[35minfo\u001b[0m] [0.054] 0\n",
      "[\u001b[35minfo\u001b[0m] [0.060] 0\n",
      "[\u001b[35minfo\u001b[0m] [0.063] 0\n",
      "[\u001b[35minfo\u001b[0m] [0.065] 0\n",
      "[\u001b[35minfo\u001b[0m] [0.068] 0\n",
      "[\u001b[35minfo\u001b[0m] [0.071] 0\n",
      "[\u001b[35minfo\u001b[0m] [0.077] 0\n",
      "[\u001b[35minfo\u001b[0m] [0.090] 0\n",
      "[\u001b[35minfo\u001b[0m] [0.090] 0\n",
      "[\u001b[35minfo\u001b[0m] [0.090] 0\n",
      "[\u001b[35minfo\u001b[0m] [0.091] 0\n",
      "[\u001b[35minfo\u001b[0m] [0.092] 0\n",
      "[\u001b[35minfo\u001b[0m] [0.095] 0\n",
      "[\u001b[35minfo\u001b[0m] [0.097] 0\n",
      "[\u001b[35minfo\u001b[0m] [0.106] 0\n",
      "test cmd4HelperCounter Success: 0 tests passed in 55 cycles in 0.111437 seconds 493.55 Hz\n",
      "[\u001b[35minfo\u001b[0m] [0.118] RAN 50 CYCLES PASSED\n"
     ]
    },
    {
     "data": {
      "text/plain": [
       "\u001b[36mtestResult\u001b[39m: \u001b[32mBoolean\u001b[39m = true"
      ]
     },
     "execution_count": 6,
     "metadata": {},
     "output_type": "execute_result"
    }
   ],
   "source": [
    "val testResult = Driver.execute(Array(),() => new Counter()) {\n",
    "  c => new PeekPokeTester(c) {\n",
    "      \n",
    "    for (value <- 0 until 50) { //We check 50 times.\n",
    "        println(peek(c.io.out).toString ) //Print the value on the output.\n",
    "        step(1) //Move 1 clock cycle ahead.\n",
    "    }\n",
    "  }\n",
    "}"
   ]
  },
  {
   "cell_type": "markdown",
   "metadata": {},
   "source": [
    "# Generate the code\n",
    "\n",
    "Extend the top module at the bottom, so that it uses a counter instead of the switches. You can either use the counter module you wrote or you can describe the counter directly.\n",
    "\n",
    "\n",
    "## Which way is the best way? \n",
    "*It depends!*\n",
    "\n",
    "When working in larger projects, it is usually nice to have different modules to get a better overview. This also allows for testing the different modules. However, if you make too many modules, it can be harder to understand what is happening when reading the code. \n",
    "\n",
    "As a rule of thumb, if you need to have multiple pieces of the same hardware, it makes sense to make a module. This way, if you need to change these modules, you only need to change them in one place.\n",
    "\n",
    "If there is more boiler plate code than actual code in your module, you would probably be better off to just write the hardware directly."
   ]
  },
  {
   "cell_type": "markdown",
   "metadata": {},
   "source": [
    "# Multiplexing\n",
    "You now have a 7-segment decoder and a counter that can drive the 7-segment display. But as you must have noticed, all the segments showed the same. This is because the display uses the same 7 wires for all the segments. However, you can control which set of segments are lit by setting the AN signal. Digilent, who made the Basys board, has an excellent overview of how the 7-segment display works, in their [Basys 3 reference manual](https://reference.digilentinc.com/reference/programmable-logic/basys-3/reference-manual#basic_io). Read the section about the 7-segment display.\n",
    "\n",
    "When showing an output on one 7-segment display, you can show the numbers from 0 to 15. When using all four displays, you can show 4 numbers from 0 to 15 for a total of 65536 numbers.\n",
    "\n",
    "In the vending machine, you will be showing one value on the two leftmost displays and another value on the two rightmost displays. Sketch how you would perform this, given two 8 bit numbers time-multiplexed onto the 7-segment display, using the 7-segment decoder.\n",
    "\n",
    "**Hint** Multiplexers are a great way of choosing between data\n",
    "\n",
    "**Hint** Counters are a great way of counting to 4, which coincides with the number of displays that needs to be turned on.\n",
    "\n",
    "## Performing Multiplexing\n",
    "Implement the time-multiplexing as you have drawn it on the paper. You need to change the display with a frequency of more than 60 Hz but less than 1 KHz. Remember that the clock frequency of the Basys 3 board is 100 MHz.\n",
    "\n",
    "Add the code to the top level module in the bottom. You can either write it directly or you can make a module for it. This is up to you, the designer!"
   ]
  },
  {
   "cell_type": "markdown",
   "metadata": {},
   "source": [
    "# Optional\n",
    "\n",
    "You now have a 7-segment display showing a hexadecimal number. This can be difficult to interpret at a glance. What number is CA? Therefore, we can do a Binary-Coded Decimal (BCD) representation by encoding the value we wish to output. How many bits can you represent with two decimal numbers?\n",
    "\n",
    "The following module generates a big look-up table that encodes N bits into a M bit BCD number. "
   ]
  },
  {
   "cell_type": "code",
   "execution_count": 7,
   "metadata": {},
   "outputs": [
    {
     "data": {
      "text/plain": [
       "defined \u001b[32mclass\u001b[39m \u001b[36mBCDTable\u001b[39m"
      ]
     },
     "execution_count": 7,
     "metadata": {},
     "output_type": "execute_result"
    }
   ],
   "source": [
    "class BCDTable() extends Module {\n",
    "    val io = IO(new Bundle {\n",
    "        val address = Input(UInt(8.W))\n",
    "        val data = Output(UInt(8.W))\n",
    "    })\n",
    "    \n",
    "    val lookup = new Array[Int](256)\n",
    "    \n",
    "    \n",
    "    for (i <- 0 until 99){\n",
    "        lookup(i) = ((i/10)<<4) + i % 10\n",
    "    }\n",
    "    \n",
    "    val table = VecInit(lookup.map(_.U(8.W)))\n",
    "    \n",
    "    io.data := table(io.address)\n",
    "}"
   ]
  },
  {
   "cell_type": "markdown",
   "metadata": {},
   "source": [
    "# Top level module for Basys3 board\n",
    "\n",
    "All this does is describe a top module, from which you can bind inputs and outputs on the basys board, which is consistent with the XDC file given.\n",
    "\n",
    "In this file, you should instantiate the different modules you have made and connect them to the inputs and outputs. Add one step at a time and verify that it is working."
   ]
  },
  {
   "cell_type": "code",
   "execution_count": 8,
   "metadata": {
    "scrolled": true
   },
   "outputs": [
    {
     "name": "stdout",
     "output_type": "stream",
     "text": [
      "[\u001b[35minfo\u001b[0m] [0.000] Elaborating design...\n",
      "[\u001b[35minfo\u001b[0m] [0.009] Done elaborating.\n",
      "Total FIRRTL Compile Time: 178.4 ms\n"
     ]
    },
    {
     "data": {
      "text/plain": [
       "defined \u001b[32mclass\u001b[39m \u001b[36mVendingMachineTop\u001b[39m\n",
       "\u001b[36mresult\u001b[39m: \u001b[32mChiselExecutionResult\u001b[39m = \u001b[33mChiselExecutionSuccess\u001b[39m(\n",
       "  \u001b[33mSome\u001b[39m(\n",
       "    \u001b[33mCircuit\u001b[39m(\n",
       "      \u001b[32m\"cmd7HelperVendingMachineTop\"\u001b[39m,\n",
       "      \u001b[33mArrayBuffer\u001b[39m(\n",
       "        \u001b[33mDefModule\u001b[39m(\n",
       "          ammonite.$sess.cmd7$Helper$VendingMachineTop@4ff0ba53,\n",
       "          \u001b[32m\"cmd7HelperVendingMachineTop\"\u001b[39m,\n",
       "          \u001b[33mArrayBuffer\u001b[39m(\n",
       "            \u001b[33mPort\u001b[39m(Clock(IO clock in cmd7$Helper$VendingMachineTop), Input),\n",
       "            \u001b[33mPort\u001b[39m(Bool(IO reset in cmd7$Helper$VendingMachineTop), Input),\n",
       "            \u001b[33mPort\u001b[39m(\n",
       "              AnonymousBundle(IO io in cmd7$Helper$VendingMachineTop),\n",
       "              Unspecified\n",
       "            )\n",
       "          ),\n",
       "          \u001b[33mList\u001b[39m(\n",
       "            \u001b[33mConnect\u001b[39m(\n",
       "              \u001b[33mSourceLine\u001b[39m(\u001b[32m\"cmd7.sc\"\u001b[39m, \u001b[32m24\u001b[39m, \u001b[32m10\u001b[39m),\n",
       "              \u001b[33mNode\u001b[39m(UInt<16>(IO io_led in cmd7$Helper$VendingMachineTop)),\n",
       "              \u001b[33mULit\u001b[39m(0, )\n",
       "            ),\n",
       "            \u001b[33mConnect\u001b[39m(\n",
       "              \u001b[33mSourceLine\u001b[39m(\u001b[32m\"cmd7.sc\"\u001b[39m, \u001b[32m25\u001b[39m, \u001b[32m10\u001b[39m),\n",
       "              \u001b[33mNode\u001b[39m(UInt<7>(IO io_seg in cmd7$Helper$VendingMachineTop)),\n",
       "              \u001b[33mULit\u001b[39m(0, )\n",
       "            ),\n",
       "            \u001b[33mConnect\u001b[39m(\n",
       "              \u001b[33mSourceLine\u001b[39m(\u001b[32m\"cmd7.sc\"\u001b[39m, \u001b[32m26\u001b[39m, \u001b[32m13\u001b[39m),\n",
       "              \u001b[33mNode\u001b[39m(UInt<4>(IO io_seg_an in cmd7$Helper$VendingMachineTop)),\n",
       "              \u001b[33mULit\u001b[39m(5, \u001b[33mKnownWidth\u001b[39m(\u001b[32m3\u001b[39m))\n",
       "            )\n",
       "          )\n",
       "        )\n",
       "      ),\n",
       "      \u001b[33mArrayBuffer\u001b[39m()\n",
       "    )\n",
       "  ),\n",
       "  \u001b[32m\"\"\";buildInfoPackage: chisel3, version: 3.2-SNAPSHOT, scalaVersion: 2.12.10, s\u001b[39m..."
      ]
     },
     "execution_count": 8,
     "metadata": {},
     "output_type": "execute_result"
    }
   ],
   "source": [
    "/**\n",
    " * A top level to wire FPGA buttons, LEDs and 7-segment controllers\n",
    " * to the Basys3 board input and output.\n",
    " */\n",
    "class VendingMachineTop extends Module {\n",
    "  val io = IO(new Bundle {\n",
    "    val sw = Input(UInt(16.W)) //16 switches\n",
    "    val led = Output(UInt(16.W)) //16 LEDs\n",
    "      \n",
    "    val seg = Output(Bits(7.W))\n",
    "    val seg_an = Output(Bits(4.W))\n",
    "      \n",
    "    val up = Input(Bits(1.W))\n",
    "    val down = Input(Bits(1.W))\n",
    "    val left = Input(Bits(1.W))\n",
    "    val right = Input(Bits(1.W))\n",
    "  })\n",
    "\n",
    "    \n",
    "  //Instantiate the SevenSegDecoder module\n",
    "    \n",
    "    \n",
    "    \n",
    "  //And other hardware as needed in the next steps\n",
    "    \n",
    "    \n",
    "  //And don't forget to connect the outputs\n",
    "  io.led := 0.U\n",
    "  io.seg := 0.U\n",
    "  io.seg_an := \"b0101\".U\n",
    "}\n",
    "\n",
    "\n",
    "// Generate the Verilog code by invoking the Driver\n",
    "\n",
    "\n",
    "val result = (chisel3.Driver.execute(Array(\"--target-dir\", \"generated\", \"-tn\", \"vending_machine\"), \n",
    "                                     () => new VendingMachineTop()))"
   ]
  },
  {
   "cell_type": "code",
   "execution_count": 9,
   "metadata": {},
   "outputs": [
    {
     "data": {
      "text/plain": [
       "\u001b[36mres8\u001b[39m: \u001b[32mString\u001b[39m = \u001b[32m\"cmd7HelperVendingMachineTop\"\u001b[39m"
      ]
     },
     "execution_count": 9,
     "metadata": {},
     "output_type": "execute_result"
    }
   ],
   "source": [
    "    result.asInstanceOf[ChiselExecutionSuccess].circuitOption.head.name"
   ]
  }
 ],
 "metadata": {
  "kernelspec": {
   "display_name": "Scala",
   "language": "scala",
   "name": "scala"
  },
  "language_info": {
   "codemirror_mode": "text/x-scala",
   "file_extension": ".scala",
   "mimetype": "text/x-scala",
   "name": "scala",
   "nbconvert_exporter": "script",
   "version": "2.12.8"
  }
 },
 "nbformat": 4,
 "nbformat_minor": 2
}
